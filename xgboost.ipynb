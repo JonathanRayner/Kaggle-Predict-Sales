{
 "cells": [
  {
   "cell_type": "code",
   "execution_count": 1,
   "metadata": {
    "collapsed": false
   },
   "outputs": [],
   "source": [
    "import pandas as pd\n",
    "import numpy as np\n",
    "import matplotlib.pyplot as plt\n",
    "import xgboost as xgb\n",
    "from sklearn.metrics import mean_squared_error as mse"
   ]
  },
  {
   "cell_type": "markdown",
   "metadata": {
    "collapsed": false
   },
   "source": [
    "# Functions for creating features, modelling, plotting"
   ]
  },
  {
   "cell_type": "code",
   "execution_count": 2,
   "metadata": {
    "collapsed": false
   },
   "outputs": [],
   "source": [
    "def prepare_data(train_val_test_dates=[None, None, None],\n",
    "                 extra_features=None,\n",
    "                 only_normal_shops=False,\n",
    "                 only_normal_items=False):\n",
    "    \"\"\"\n",
    "    Prepares the data in \"train_clean.csv\" for xgboost, with options for feature engineering and other manipulation.\n",
    "\n",
    "    Args:\n",
    "        train_val_test_dates: 'YYYY-MM-DD' format, specify train start date, val start date, test start date.\n",
    "        extra_features=None: if True, item_category and an assortment of time-based features are added\n",
    "        only_normal_shops=False: some shops are not present in \"test.csv\" and tend to have unusual distributions. if True, exclude these.\n",
    "        only_normal_items=False: some items are not present in \"test.csv\". if True, exclude these.\n",
    "\n",
    "    Returns:\n",
    "        dtrain, dvalidation, dtest, train, validation, test, df\n",
    "    \"\"\"\n",
    "    def only_normal(df, shops=False, items=False):\n",
    "        \"\"\"\n",
    "        Returns df with only shops, items found in \"test.csv\" depending on if shops, items = True is set (defaults: False). mutates df.\n",
    "        \"\"\"\n",
    "        normal = pd.read_csv('test.csv')\n",
    "\n",
    "        # if enabled, only items and/or shops in 'test.csv' are retained in self.df\n",
    "        if shops:\n",
    "            normal_shops = normal['shop_id'].unique()\n",
    "            df = df[df['shop_id'].isin(normal_shops)]\n",
    "        if items:\n",
    "            normal_items = normal['item_id'].unique()\n",
    "            df = df[df['item_id'].isin(normal_items)]\n",
    "        return df\n",
    "\n",
    "    def add_features(df):\n",
    "        \"\"\"\n",
    "        Add item categories to df and assorted date features. Mutates df.\n",
    "\n",
    "        Returns: df\n",
    "        \"\"\"\n",
    "        items = pd.read_csv(\"items.csv\")\n",
    "        # get items csv and use id and categories columns as key to add item categories to dataframe\n",
    "        df['item_category_id'] = df['item_id'].map(items.set_index('item_id')['item_category_id'])\n",
    "\n",
    "        # add some time features, add the dates as a column to do this, remove date column at the end\n",
    "        df['date'] = df.index\n",
    "        df['dayofweek'] = df['date'].dt.dayofweek\n",
    "        df['month'] = df['date'].dt.month\n",
    "        df['year'] = df['date'].dt.year\n",
    "        df['dayofyear'] = df['date'].dt.dayofyear\n",
    "        df['dayofmonth'] = df['date'].dt.day\n",
    "\n",
    "        df.drop(columns='date', inplace=True)\n",
    "        return df\n",
    "\n",
    "    def train_val_test_split(df, train_val_test_dates):\n",
    "        \"\"\"\n",
    "        Returns train, val, test split of df, as dataframes including labels, according to date splits. Does not mutate df.\n",
    "\n",
    "        Format: 'YYYY-MM-DD'\n",
    "        \"\"\"\n",
    "        train_start_date, val_start_date, test_start_date = train_val_test_dates[0], train_val_test_dates[1], train_val_test_dates[2]\n",
    "\n",
    "        train = df[(train_start_date <= df.index) & (df.index < val_start_date)].copy()\n",
    "        validation = df[(val_start_date <= df.index) & (df.index < test_start_date)].copy()\n",
    "        test = df[test_start_date <= df.index].copy()\n",
    "\n",
    "        return train, validation, test\n",
    "\n",
    "    def make_dmatrix(df):\n",
    "        \"\"\"\n",
    "        Convert pandas dataframe to DMatrix for xgboost, splitting off labels and including in dmatrix as need. Does not mutate df.\n",
    "        \"\"\"\n",
    "        X = df.copy()\n",
    "        y = X.pop('item_cnt_day')\n",
    "        dmatrix = xgb.DMatrix(X, label=y)\n",
    "        return dmatrix\n",
    "\n",
    "    # import and use dates as index, sort by date\n",
    "    df = pd.read_csv(\"train_clean.csv\", index_col=[0], parse_dates=[0], dayfirst=True)\n",
    "    df = df.sort_index()\n",
    "\n",
    "    # if True, use only shops and/or items found in \"test.csv\"\n",
    "    if only_normal_shops:\n",
    "        df = only_normal(df, shops=True)\n",
    "    if only_normal_items:\n",
    "        df = only_normal(df, items=True)\n",
    "\n",
    "    # if True, add item category and various time features\n",
    "    if extra_features:\n",
    "        df = add_features(df)\n",
    "\n",
    "    train, validation, test = train_val_test_split(df, train_val_test_dates)\n",
    "\n",
    "    # dmatrices for xgboost\n",
    "    dtrain, dvalidation, dtest = make_dmatrix(train), make_dmatrix(validation), make_dmatrix(test)\n",
    "\n",
    "    return dtrain, dvalidation, dtest, train, validation, test, df\n"
   ]
  },
  {
   "cell_type": "code",
   "execution_count": 3,
   "metadata": {
    "collapsed": false
   },
   "outputs": [],
   "source": [
    "# make model\n",
    "def make_model(num_trees=100,\n",
    "               train_val_test_dates=[None, None, None],\n",
    "               extra_features=None,\n",
    "               only_normal_shops=False,\n",
    "               only_normal_items=False):\n",
    "    \"\"\"\n",
    "    Make model using parameters for data pipeline.\n",
    "    \"\"\"\n",
    "\n",
    "    dtrain, dvalidation, dtest, _, _, _, _ = prepare_data(train_val_test_dates=train_val_test_dates,\n",
    "                                            extra_features=extra_features,\n",
    "                                            only_normal_shops=only_normal_shops,\n",
    "                                            only_normal_items=only_normal_items)\n",
    "\n",
    "    params = {}\n",
    "    params['eval_metric'] = ['mape', 'mae', 'rmse']\n",
    "    params['nthread'] = 4\n",
    "    params['eta'] = .3 # learning rate, default = 0.3\n",
    "    params['max_depth'] = 6 # default = 6\n",
    "\n",
    "    # gpu (needs CUDA compute >= 3.5)\n",
    "    # params['gpu_id'] = 0\n",
    "    # params['tree_method'] = 'gpu_hist'\n",
    "\n",
    "    # track performance on this data\n",
    "    evallist = [(dtrain, 'train'), (dvalidation, 'eval')] # last metric is used for early stopping\n",
    "\n",
    "    num_boost_round = num_trees # how many trees, default = 10\n",
    "    early_stopping_rounds = 50\n",
    "\n",
    "    model = xgb.train(params=params,\n",
    "                    dtrain=dtrain,\n",
    "                    num_boost_round=num_boost_round,\n",
    "                    evals=evallist\n",
    "                    # uncomment for early stopping\n",
    "                    # early_stopping_rounds=early_stopping_rounds\n",
    "                      )\n",
    "\n",
    "    return model"
   ]
  },
  {
   "cell_type": "code",
   "execution_count": 26,
   "metadata": {
    "collapsed": false
   },
   "outputs": [],
   "source": [
    "def plot_predictions(model, dmatrix, data):\n",
    "    \"\"\"\n",
    "    Plot predictions and true sum of item_cnt values for each date.\n",
    "    \"\"\"\n",
    "    # use best iteration\n",
    "    predictions = model.predict(dmatrix) #, ntree_limit=model.best_iteration)\n",
    "\n",
    "    compare = pd.DataFrame(data=predictions, index=data.index, columns=['Predicted Values'])\n",
    "    compare['True Values'] = data['item_cnt_day']\n",
    "\n",
    "    # calculate totals for each date\n",
    "    return compare.groupby('date').sum().plot(figsize=(10, 3))\n"
   ]
  },
  {
   "cell_type": "code",
   "execution_count": 29,
   "metadata": {
    "collapsed": false
   },
   "outputs": [],
   "source": [
    "def summarize_model(num_trees=10,\n",
    "                    train_val_test_dates=[None, None, None],\n",
    "                    extra_features=False,\n",
    "                    only_normal_shops=False,\n",
    "                    only_normal_items=False,\n",
    "                    save_figs=False):\n",
    "\n",
    "    # train model\n",
    "    model = make_model(num_trees=num_trees,\n",
    "                    train_val_test_dates=train_val_test_dates,\n",
    "                    extra_features=extra_features,\n",
    "                    only_normal_shops=only_normal_shops,\n",
    "                    only_normal_items=only_normal_items)\n",
    "\n",
    "    # for plotting\n",
    "    _, dvalidation, dtest, train, validation, test, _ = prepare_data(train_val_test_dates=train_val_test_dates,\n",
    "                                                                    extra_features=extra_features,\n",
    "                                                                    only_normal_shops=only_normal_shops,\n",
    "                                                                    only_normal_items=only_normal_items)\n",
    "    # feature importance\n",
    "    if save_figs:\n",
    "        ax = xgb.plot_importance(model)\n",
    "        print(ax)\n",
    "        ax.figure.tight_layout()\n",
    "        ax.figure.savefig(save_figs+'_feature_importance.png')\n",
    "    else:\n",
    "        print(xgb.plot_importance(model))\n",
    "\n",
    "    # validation plots\n",
    "    if save_figs:\n",
    "        ax = plot_predictions(model, dvalidation, validation)\n",
    "        print(ax)\n",
    "        ax.figure.tight_layout()\n",
    "        ax.figure.savefig(save_figs+'_validation.png')\n",
    "    else:\n",
    "        print(plot_predictions(model, dvalidation, validation))\n",
    "\n",
    "    # test plots\n",
    "    if save_figs:\n",
    "        ax = plot_predictions(model, dtest, test)\n",
    "        print(ax)\n",
    "        ax.figure.tight_layout()\n",
    "        ax.figure.savefig(save_figs+'_test.png')\n",
    "    else:\n",
    "        print(plot_predictions(model, dtest, test))\n",
    "\n",
    "    # calculate and print test rmse\n",
    "    test_pred = model.predict(dtest)\n",
    "    test_true = test['item_cnt_day'].values\n",
    "\n",
    "    print(\"Test RMSE is: \", mse(test_true, test_pred, squared=False))\n"
   ]
  },
  {
   "cell_type": "markdown",
   "metadata": {
    "collapsed": false
   },
   "source": [
    "# Testing several models"
   ]
  },
  {
   "cell_type": "code",
   "execution_count": 30,
   "metadata": {
    "collapsed": false
   },
   "outputs": [
    {
     "name": "stdout",
     "output_type": "stream",
     "text": [
      "[0]\ttrain-mape:0.34255\ttrain-mae:0.53045\ttrain-rmse:2.10190\teval-mape:0.35244\teval-mae:0.73352\teval-rmse:6.16047\n"
     ]
    },
    {
     "name": "stdout",
     "output_type": "stream",
     "text": [
      "[1]\ttrain-mape:0.21542\ttrain-mae:0.38804\ttrain-rmse:2.00562\teval-mape:0.22844\teval-mae:0.59223\teval-rmse:6.13974\n"
     ]
    },
    {
     "name": "stdout",
     "output_type": "stream",
     "text": [
      "[2]\ttrain-mape:0.14449\ttrain-mae:0.30740\ttrain-rmse:1.95522\teval-mape:0.15876\teval-mae:0.51231\teval-rmse:6.12840\n"
     ]
    },
    {
     "name": "stdout",
     "output_type": "stream",
     "text": [
      "[3]\ttrain-mape:0.12398\ttrain-mae:0.28108\ttrain-rmse:1.93404\teval-mape:0.13191\teval-mae:0.48056\teval-rmse:6.12320\n"
     ]
    },
    {
     "name": "stdout",
     "output_type": "stream",
     "text": [
      "[4]\ttrain-mape:0.13323\ttrain-mae:0.28584\ttrain-rmse:1.91555\teval-mape:0.13832\teval-mae:0.48254\teval-rmse:6.11833\n"
     ]
    },
    {
     "name": "stdout",
     "output_type": "stream",
     "text": [
      "[5]\ttrain-mape:0.14882\ttrain-mae:0.29842\ttrain-rmse:1.89745\teval-mape:0.15834\teval-mae:0.49837\teval-rmse:6.11219\n"
     ]
    },
    {
     "name": "stdout",
     "output_type": "stream",
     "text": [
      "[6]\ttrain-mape:0.16604\ttrain-mae:0.31258\ttrain-rmse:1.88046\teval-mape:0.17547\teval-mae:0.50982\teval-rmse:6.10132\n"
     ]
    },
    {
     "name": "stdout",
     "output_type": "stream",
     "text": [
      "[7]\ttrain-mape:0.17969\ttrain-mae:0.32465\ttrain-rmse:1.87220\teval-mape:0.17164\teval-mae:0.50289\teval-rmse:6.09198\n"
     ]
    },
    {
     "name": "stdout",
     "output_type": "stream",
     "text": [
      "[8]\ttrain-mape:0.18891\ttrain-mae:0.33233\ttrain-rmse:1.85198\teval-mape:0.18063\teval-mae:0.51051\teval-rmse:6.09361\n"
     ]
    },
    {
     "name": "stdout",
     "output_type": "stream",
     "text": [
      "[9]\ttrain-mape:0.19499\ttrain-mae:0.33765\ttrain-rmse:1.84694\teval-mape:0.18503\teval-mae:0.51251\teval-rmse:6.08974\n"
     ]
    },
    {
     "name": "stdout",
     "output_type": "stream",
     "text": [
      "[10]\ttrain-mape:0.19928\ttrain-mae:0.34109\ttrain-rmse:1.84153\teval-mape:0.19134\teval-mae:0.51748\teval-rmse:6.08747\n"
     ]
    },
    {
     "name": "stdout",
     "output_type": "stream",
     "text": [
      "[11]\ttrain-mape:0.20248\ttrain-mae:0.34416\ttrain-rmse:1.83778\teval-mape:0.18357\teval-mae:0.50999\teval-rmse:6.08735\n"
     ]
    },
    {
     "name": "stdout",
     "output_type": "stream",
     "text": [
      "[12]\ttrain-mape:0.20401\ttrain-mae:0.34503\ttrain-rmse:1.83453\teval-mape:0.18471\teval-mae:0.51094\teval-rmse:6.08709\n"
     ]
    },
    {
     "name": "stdout",
     "output_type": "stream",
     "text": [
      "[13]\ttrain-mape:0.20505\ttrain-mae:0.34551\ttrain-rmse:1.82987\teval-mape:0.18663\teval-mae:0.51165\teval-rmse:6.08412\n"
     ]
    },
    {
     "name": "stdout",
     "output_type": "stream",
     "text": [
      "[14]\ttrain-mape:0.20576\ttrain-mae:0.34580\ttrain-rmse:1.82638\teval-mape:0.18017\teval-mae:0.50471\teval-rmse:6.08328\n"
     ]
    },
    {
     "name": "stdout",
     "output_type": "stream",
     "text": [
      "[15]\ttrain-mape:0.20610\ttrain-mae:0.34574\ttrain-rmse:1.82384\teval-mape:0.18099\teval-mae:0.50427\teval-rmse:6.08263\n"
     ]
    },
    {
     "name": "stdout",
     "output_type": "stream",
     "text": [
      "[16]\ttrain-mape:0.20608\ttrain-mae:0.34535\ttrain-rmse:1.81345\teval-mape:0.18137\teval-mae:0.50445\teval-rmse:6.08173\n"
     ]
    },
    {
     "name": "stdout",
     "output_type": "stream",
     "text": [
      "[17]\ttrain-mape:0.20499\ttrain-mae:0.34363\ttrain-rmse:1.80966\teval-mape:0.17926\teval-mae:0.50234\teval-rmse:6.08119\n"
     ]
    },
    {
     "name": "stdout",
     "output_type": "stream",
     "text": [
      "[18]\ttrain-mape:0.20484\ttrain-mae:0.34317\ttrain-rmse:1.80758\teval-mape:0.17885\teval-mae:0.50253\teval-rmse:6.08223\n"
     ]
    },
    {
     "name": "stdout",
     "output_type": "stream",
     "text": [
      "[19]\ttrain-mape:0.20434\ttrain-mae:0.34221\ttrain-rmse:1.80402\teval-mape:0.17836\teval-mae:0.50230\teval-rmse:6.08256\n"
     ]
    },
    {
     "name": "stdout",
     "output_type": "stream",
     "text": [
      "AxesSubplot(0.125,0.125;0.775x0.755)\n",
      "AxesSubplot(0.125,0.125;0.775x0.755)\n"
     ]
    },
    {
     "name": "stdout",
     "output_type": "stream",
     "text": [
      "AxesSubplot(0.125,0.125;0.775x0.755)\n",
      "Test RMSE is:  9.379496907843956\n"
     ]
    },
    {
     "data": {
      "image/png": "[encoded data removed]",
      "text/plain": [
       "<Figure size 432x288 with 1 Axes>"
      ]
     },
     "metadata": {
      "needs_background": "light"
     },
     "output_type": "display_data"
    },
    {
     "data": {
      "image/png": "[encoded data removed]",
      "text/plain": [
       "<Figure size 720x216 with 1 Axes>"
      ]
     },
     "metadata": {
      "needs_background": "light"
     },
     "output_type": "display_data"
    },
    {
     "data": {
      "image/png": "[encoded data removed]",
      "text/plain": [
       "<Figure size 720x216 with 1 Axes>"
      ]
     },
     "metadata": {
      "needs_background": "light"
     },
     "output_type": "display_data"
    }
   ],
   "source": [
    "# baseline model\n",
    "#\n",
    "# results:\n",
    "#\n",
    "# val rmse always much higher than train, overfitting/model not very predictive\n",
    "# decent looking summarising graphs for validation and test\n",
    "\n",
    "\n",
    "# feature engineering parameters\n",
    "# use all data, last month for test, 2nd last month for validation\n",
    "train_val_test_dates = ['2013-01-01', '2015-09-01', '2015-10-01']\n",
    "extra_features = False\n",
    "only_normal_shops = False\n",
    "only_normal_items = False\n",
    "\n",
    "num_trees = 20\n",
    "\n",
    "save_figs = 'baseline'\n",
    "\n",
    "summarize_model(num_trees=num_trees,\n",
    "                train_val_test_dates=train_val_test_dates,\n",
    "                extra_features=extra_features,\n",
    "                only_normal_shops=only_normal_shops,\n",
    "                only_normal_items=only_normal_items,\n",
    "                save_figs=save_figs)\n"
   ]
  },
  {
   "cell_type": "code",
   "execution_count": 31,
   "metadata": {
    "collapsed": false
   },
   "outputs": [
    {
     "name": "stdout",
     "output_type": "stream",
     "text": [
      "[0]\ttrain-mape:0.34370\ttrain-mae:0.59587\ttrain-rmse:2.57769\teval-mape:0.34683\teval-mae:0.56399\teval-rmse:1.68611\n"
     ]
    },
    {
     "name": "stdout",
     "output_type": "stream",
     "text": [
      "[1]\ttrain-mape:0.22977\ttrain-mae:0.45482\ttrain-rmse:2.41455\teval-mape:0.22875\teval-mae:0.42576\teval-rmse:1.59931\n"
     ]
    },
    {
     "name": "stdout",
     "output_type": "stream",
     "text": [
      "[2]\ttrain-mape:0.17690\ttrain-mae:0.38584\ttrain-rmse:2.33023\teval-mape:0.17836\teval-mae:0.36566\teval-rmse:1.56398\n"
     ]
    },
    {
     "name": "stdout",
     "output_type": "stream",
     "text": [
      "[3]\ttrain-mape:0.16137\ttrain-mae:0.35768\ttrain-rmse:2.27988\teval-mape:0.15939\teval-mae:0.33909\teval-rmse:1.54036\n"
     ]
    },
    {
     "name": "stdout",
     "output_type": "stream",
     "text": [
      "[4]\ttrain-mape:0.16817\ttrain-mae:0.35807\ttrain-rmse:2.22498\teval-mape:0.15525\teval-mae:0.33199\teval-rmse:1.53593\n"
     ]
    },
    {
     "name": "stdout",
     "output_type": "stream",
     "text": [
      "[5]\ttrain-mape:0.17947\ttrain-mae:0.36456\ttrain-rmse:2.20092\teval-mape:0.16260\teval-mae:0.33676\teval-rmse:1.53092\n"
     ]
    },
    {
     "name": "stdout",
     "output_type": "stream",
     "text": [
      "[6]\ttrain-mape:0.19060\ttrain-mae:0.37264\ttrain-rmse:2.17860\teval-mape:0.17047\teval-mae:0.34283\teval-rmse:1.52762\n"
     ]
    },
    {
     "name": "stdout",
     "output_type": "stream",
     "text": [
      "[7]\ttrain-mape:0.20131\ttrain-mae:0.37870\ttrain-rmse:2.13060\teval-mape:0.17437\teval-mae:0.34570\teval-rmse:1.52355\n"
     ]
    },
    {
     "name": "stdout",
     "output_type": "stream",
     "text": [
      "[8]\ttrain-mape:0.21013\ttrain-mae:0.38482\ttrain-rmse:2.12046\teval-mape:0.18429\teval-mae:0.35399\teval-rmse:1.51916\n"
     ]
    },
    {
     "name": "stdout",
     "output_type": "stream",
     "text": [
      "[9]\ttrain-mape:0.21698\ttrain-mae:0.39061\ttrain-rmse:2.09705\teval-mape:0.19530\teval-mae:0.36392\teval-rmse:1.51756\n"
     ]
    },
    {
     "name": "stdout",
     "output_type": "stream",
     "text": [
      "[10]\ttrain-mape:0.22198\ttrain-mae:0.39498\ttrain-rmse:2.08031\teval-mape:0.20108\teval-mae:0.36924\teval-rmse:1.51685\n"
     ]
    },
    {
     "name": "stdout",
     "output_type": "stream",
     "text": [
      "[11]\ttrain-mape:0.22458\ttrain-mae:0.39661\ttrain-rmse:2.07358\teval-mape:0.20270\teval-mae:0.36990\teval-rmse:1.51638\n"
     ]
    },
    {
     "name": "stdout",
     "output_type": "stream",
     "text": [
      "[12]\ttrain-mape:0.22700\ttrain-mae:0.39865\ttrain-rmse:2.06157\teval-mape:0.20548\teval-mae:0.37267\teval-rmse:1.51692\n"
     ]
    },
    {
     "name": "stdout",
     "output_type": "stream",
     "text": [
      "[13]\ttrain-mape:0.22815\ttrain-mae:0.39917\ttrain-rmse:2.05531\teval-mape:0.20904\teval-mae:0.37542\teval-rmse:1.51597\n"
     ]
    },
    {
     "name": "stdout",
     "output_type": "stream",
     "text": [
      "[14]\ttrain-mape:0.22772\ttrain-mae:0.39744\ttrain-rmse:2.01770\teval-mape:0.20783\teval-mae:0.37505\teval-rmse:1.52089\n"
     ]
    },
    {
     "name": "stdout",
     "output_type": "stream",
     "text": [
      "[15]\ttrain-mape:0.22803\ttrain-mae:0.39682\ttrain-rmse:1.99529\teval-mape:0.21160\teval-mae:0.37847\teval-rmse:1.52695\n"
     ]
    },
    {
     "name": "stdout",
     "output_type": "stream",
     "text": [
      "[16]\ttrain-mape:0.22784\ttrain-mae:0.39599\ttrain-rmse:1.98409\teval-mape:0.21047\teval-mae:0.37808\teval-rmse:1.52947\n"
     ]
    },
    {
     "name": "stdout",
     "output_type": "stream",
     "text": [
      "[17]\ttrain-mape:0.22814\ttrain-mae:0.39592\ttrain-rmse:1.97488\teval-mape:0.20998\teval-mae:0.37774\teval-rmse:1.52759\n"
     ]
    },
    {
     "name": "stdout",
     "output_type": "stream",
     "text": [
      "[18]\ttrain-mape:0.22744\ttrain-mae:0.39456\ttrain-rmse:1.95968\teval-mape:0.21037\teval-mae:0.37808\teval-rmse:1.52811\n"
     ]
    },
    {
     "name": "stdout",
     "output_type": "stream",
     "text": [
      "[19]\ttrain-mape:0.22759\ttrain-mae:0.39402\ttrain-rmse:1.92920\teval-mape:0.20711\teval-mae:0.37482\teval-rmse:1.52681\n"
     ]
    },
    {
     "name": "stdout",
     "output_type": "stream",
     "text": [
      "[20]\ttrain-mape:0.22707\ttrain-mae:0.39272\ttrain-rmse:1.91873\teval-mape:0.20606\teval-mae:0.37380\teval-rmse:1.52279\n"
     ]
    },
    {
     "name": "stdout",
     "output_type": "stream",
     "text": [
      "[21]\ttrain-mape:0.22606\ttrain-mae:0.39080\ttrain-rmse:1.91229\teval-mape:0.20596\teval-mae:0.37386\teval-rmse:1.52415\n"
     ]
    },
    {
     "name": "stdout",
     "output_type": "stream",
     "text": [
      "[22]\ttrain-mape:0.22536\ttrain-mae:0.38930\ttrain-rmse:1.89241\teval-mape:0.20418\teval-mae:0.37143\teval-rmse:1.51923\n"
     ]
    },
    {
     "name": "stdout",
     "output_type": "stream",
     "text": [
      "[23]\ttrain-mape:0.22517\ttrain-mae:0.38867\ttrain-rmse:1.88729\teval-mape:0.20439\teval-mae:0.37161\teval-rmse:1.51917\n"
     ]
    },
    {
     "name": "stdout",
     "output_type": "stream",
     "text": [
      "[24]\ttrain-mape:0.22507\ttrain-mae:0.38840\ttrain-rmse:1.88408\teval-mape:0.20541\teval-mae:0.37204\teval-rmse:1.52062\n"
     ]
    },
    {
     "name": "stdout",
     "output_type": "stream",
     "text": [
      "[25]\ttrain-mape:0.22460\ttrain-mae:0.38751\ttrain-rmse:1.87522\teval-mape:0.21193\teval-mae:0.37703\teval-rmse:1.51736\n"
     ]
    },
    {
     "name": "stdout",
     "output_type": "stream",
     "text": [
      "[26]\ttrain-mape:0.22448\ttrain-mae:0.38687\ttrain-rmse:1.87298\teval-mape:0.21278\teval-mae:0.37769\teval-rmse:1.51697\n"
     ]
    },
    {
     "name": "stdout",
     "output_type": "stream",
     "text": [
      "[27]\ttrain-mape:0.22450\ttrain-mae:0.38664\ttrain-rmse:1.86796\teval-mape:0.21312\teval-mae:0.37789\teval-rmse:1.51653\n"
     ]
    },
    {
     "name": "stdout",
     "output_type": "stream",
     "text": [
      "[28]\ttrain-mape:0.22431\ttrain-mae:0.38606\ttrain-rmse:1.85618\teval-mape:0.21327\teval-mae:0.37825\teval-rmse:1.51686\n"
     ]
    },
    {
     "name": "stdout",
     "output_type": "stream",
     "text": [
      "[29]\ttrain-mape:0.22419\ttrain-mae:0.38571\ttrain-rmse:1.85290\teval-mape:0.21058\teval-mae:0.37560\teval-rmse:1.51425\n"
     ]
    },
    {
     "name": "stdout",
     "output_type": "stream",
     "text": [
      "[30]\ttrain-mape:0.22335\ttrain-mae:0.38398\ttrain-rmse:1.83412\teval-mape:0.20833\teval-mae:0.37350\teval-rmse:1.51213\n"
     ]
    },
    {
     "name": "stdout",
     "output_type": "stream",
     "text": [
      "[31]\ttrain-mape:0.22341\ttrain-mae:0.38393\ttrain-rmse:1.83122\teval-mape:0.20851\teval-mae:0.37366\teval-rmse:1.51207\n"
     ]
    },
    {
     "name": "stdout",
     "output_type": "stream",
     "text": [
      "[32]\ttrain-mape:0.22383\ttrain-mae:0.38422\ttrain-rmse:1.82990\teval-mape:0.20864\teval-mae:0.37374\teval-rmse:1.51198\n"
     ]
    },
    {
     "name": "stdout",
     "output_type": "stream",
     "text": [
      "[33]\ttrain-mape:0.22415\ttrain-mae:0.38443\ttrain-rmse:1.82810\teval-mape:0.20934\teval-mae:0.37444\teval-rmse:1.51197\n"
     ]
    },
    {
     "name": "stdout",
     "output_type": "stream",
     "text": [
      "[34]\ttrain-mape:0.22362\ttrain-mae:0.38316\ttrain-rmse:1.81472\teval-mape:0.20842\teval-mae:0.37351\teval-rmse:1.51157\n"
     ]
    },
    {
     "name": "stdout",
     "output_type": "stream",
     "text": [
      "[35]\ttrain-mape:0.22394\ttrain-mae:0.38338\ttrain-rmse:1.81236\teval-mape:0.20886\teval-mae:0.37384\teval-rmse:1.51101\n"
     ]
    },
    {
     "name": "stdout",
     "output_type": "stream",
     "text": [
      "[36]\ttrain-mape:0.22352\ttrain-mae:0.38260\ttrain-rmse:1.80870\teval-mape:0.20879\teval-mae:0.37341\teval-rmse:1.51029\n"
     ]
    },
    {
     "name": "stdout",
     "output_type": "stream",
     "text": [
      "[37]\ttrain-mape:0.22362\ttrain-mae:0.38222\ttrain-rmse:1.79849\teval-mape:0.20596\teval-mae:0.37078\teval-rmse:1.50918\n"
     ]
    },
    {
     "name": "stdout",
     "output_type": "stream",
     "text": [
      "[38]\ttrain-mape:0.22337\ttrain-mae:0.38177\ttrain-rmse:1.79495\teval-mape:0.20628\teval-mae:0.37077\teval-rmse:1.50808\n"
     ]
    },
    {
     "name": "stdout",
     "output_type": "stream",
     "text": [
      "[39]\ttrain-mape:0.22314\ttrain-mae:0.38109\ttrain-rmse:1.78876\teval-mape:0.20641\teval-mae:0.37090\teval-rmse:1.50804\n"
     ]
    },
    {
     "name": "stdout",
     "output_type": "stream",
     "text": [
      "[40]\ttrain-mape:0.22299\ttrain-mae:0.38080\ttrain-rmse:1.78435\teval-mape:0.20645\teval-mae:0.37113\teval-rmse:1.51140\n"
     ]
    },
    {
     "name": "stdout",
     "output_type": "stream",
     "text": [
      "[41]\ttrain-mape:0.22288\ttrain-mae:0.38055\ttrain-rmse:1.77731\teval-mape:0.21177\teval-mae:0.37610\teval-rmse:1.51095\n"
     ]
    },
    {
     "name": "stdout",
     "output_type": "stream",
     "text": [
      "[42]\ttrain-mape:0.22287\ttrain-mae:0.38038\ttrain-rmse:1.77684\teval-mape:0.21244\teval-mae:0.37663\teval-rmse:1.51073\n"
     ]
    },
    {
     "name": "stdout",
     "output_type": "stream",
     "text": [
      "[43]\ttrain-mape:0.22267\ttrain-mae:0.37990\ttrain-rmse:1.77516\teval-mape:0.21174\teval-mae:0.37550\teval-rmse:1.51115\n"
     ]
    },
    {
     "name": "stdout",
     "output_type": "stream",
     "text": [
      "[44]\ttrain-mape:0.22266\ttrain-mae:0.37964\ttrain-rmse:1.77416\teval-mape:0.21206\teval-mae:0.37568\teval-rmse:1.51089\n"
     ]
    },
    {
     "name": "stdout",
     "output_type": "stream",
     "text": [
      "[45]\ttrain-mape:0.22244\ttrain-mae:0.37926\ttrain-rmse:1.77103\teval-mape:0.20963\teval-mae:0.37431\teval-rmse:1.51603\n"
     ]
    },
    {
     "name": "stdout",
     "output_type": "stream",
     "text": [
      "[46]\ttrain-mape:0.22223\ttrain-mae:0.37855\ttrain-rmse:1.74571\teval-mape:0.20948\teval-mae:0.37422\teval-rmse:1.51565\n"
     ]
    },
    {
     "name": "stdout",
     "output_type": "stream",
     "text": [
      "[47]\ttrain-mape:0.22208\ttrain-mae:0.37823\ttrain-rmse:1.74494\teval-mape:0.20927\teval-mae:0.37401\teval-rmse:1.51561\n"
     ]
    },
    {
     "name": "stdout",
     "output_type": "stream",
     "text": [
      "[48]\ttrain-mape:0.22195\ttrain-mae:0.37780\ttrain-rmse:1.73832\teval-mape:0.20932\teval-mae:0.37414\teval-rmse:1.51791\n"
     ]
    },
    {
     "name": "stdout",
     "output_type": "stream",
     "text": [
      "[49]\ttrain-mape:0.22188\ttrain-mae:0.37717\ttrain-rmse:1.73426\teval-mape:0.20962\teval-mae:0.37440\teval-rmse:1.51786\n"
     ]
    },
    {
     "name": "stdout",
     "output_type": "stream",
     "text": [
      "[50]\ttrain-mape:0.22205\ttrain-mae:0.37710\ttrain-rmse:1.72426\teval-mape:0.20879\teval-mae:0.37363\teval-rmse:1.51893\n"
     ]
    },
    {
     "name": "stdout",
     "output_type": "stream",
     "text": [
      "[51]\ttrain-mape:0.22207\ttrain-mae:0.37696\ttrain-rmse:1.72351\teval-mape:0.20897\teval-mae:0.37380\teval-rmse:1.51886\n"
     ]
    },
    {
     "name": "stdout",
     "output_type": "stream",
     "text": [
      "[52]\ttrain-mape:0.22201\ttrain-mae:0.37684\ttrain-rmse:1.72232\teval-mape:0.21540\teval-mae:0.38102\teval-rmse:1.56111\n"
     ]
    },
    {
     "name": "stdout",
     "output_type": "stream",
     "text": [
      "[53]\ttrain-mape:0.22197\ttrain-mae:0.37668\ttrain-rmse:1.72070\teval-mape:0.21537\teval-mae:0.38085\teval-rmse:1.55872\n"
     ]
    },
    {
     "name": "stdout",
     "output_type": "stream",
     "text": [
      "[54]\ttrain-mape:0.22201\ttrain-mae:0.37628\ttrain-rmse:1.70121\teval-mape:0.21487\teval-mae:0.38088\teval-rmse:1.56194\n"
     ]
    },
    {
     "name": "stdout",
     "output_type": "stream",
     "text": [
      "[55]\ttrain-mape:0.22182\ttrain-mae:0.37567\ttrain-rmse:1.69446\teval-mape:0.21502\teval-mae:0.38103\teval-rmse:1.56195\n"
     ]
    },
    {
     "name": "stdout",
     "output_type": "stream",
     "text": [
      "[56]\ttrain-mape:0.22211\ttrain-mae:0.37573\ttrain-rmse:1.68961\teval-mape:0.22427\teval-mae:0.38954\teval-rmse:1.56673\n"
     ]
    },
    {
     "name": "stdout",
     "output_type": "stream",
     "text": [
      "[57]\ttrain-mape:0.22207\ttrain-mae:0.37564\ttrain-rmse:1.68841\teval-mape:0.22445\teval-mae:0.38969\teval-rmse:1.56669\n"
     ]
    },
    {
     "name": "stdout",
     "output_type": "stream",
     "text": [
      "[58]\ttrain-mape:0.22184\ttrain-mae:0.37524\ttrain-rmse:1.68735\teval-mape:0.22615\teval-mae:0.39098\teval-rmse:1.56618\n"
     ]
    },
    {
     "name": "stdout",
     "output_type": "stream",
     "text": [
      "[59]\ttrain-mape:0.22185\ttrain-mae:0.37517\ttrain-rmse:1.68704\teval-mape:0.22608\teval-mae:0.39091\teval-rmse:1.56622\n"
     ]
    },
    {
     "name": "stdout",
     "output_type": "stream",
     "text": [
      "[60]\ttrain-mape:0.22171\ttrain-mae:0.37474\ttrain-rmse:1.67901\teval-mape:0.22663\teval-mae:0.39185\teval-rmse:1.57027\n"
     ]
    },
    {
     "name": "stdout",
     "output_type": "stream",
     "text": [
      "[61]\ttrain-mape:0.22176\ttrain-mae:0.37451\ttrain-rmse:1.67291\teval-mape:0.22695\teval-mae:0.39213\teval-rmse:1.57237\n"
     ]
    },
    {
     "name": "stdout",
     "output_type": "stream",
     "text": [
      "[62]\ttrain-mape:0.22153\ttrain-mae:0.37406\ttrain-rmse:1.67187\teval-mape:0.22723\teval-mae:0.39236\teval-rmse:1.57252\n"
     ]
    },
    {
     "name": "stdout",
     "output_type": "stream",
     "text": [
      "[63]\ttrain-mape:0.22168\ttrain-mae:0.37399\ttrain-rmse:1.66224\teval-mape:0.22765\teval-mae:0.39275\teval-rmse:1.57044\n"
     ]
    },
    {
     "name": "stdout",
     "output_type": "stream",
     "text": [
      "[64]\ttrain-mape:0.22174\ttrain-mae:0.37397\ttrain-rmse:1.66189\teval-mape:0.22838\teval-mae:0.39342\teval-rmse:1.57048\n"
     ]
    },
    {
     "name": "stdout",
     "output_type": "stream",
     "text": [
      "[65]\ttrain-mape:0.22174\ttrain-mae:0.37374\ttrain-rmse:1.65752\teval-mape:0.22788\teval-mae:0.39301\teval-rmse:1.57009\n"
     ]
    },
    {
     "name": "stdout",
     "output_type": "stream",
     "text": [
      "[66]\ttrain-mape:0.22135\ttrain-mae:0.37304\ttrain-rmse:1.65430\teval-mape:0.22830\teval-mae:0.39356\teval-rmse:1.57069\n"
     ]
    },
    {
     "name": "stdout",
     "output_type": "stream",
     "text": [
      "[67]\ttrain-mape:0.22118\ttrain-mae:0.37275\ttrain-rmse:1.65156\teval-mape:0.22840\teval-mae:0.39356\teval-rmse:1.57071\n"
     ]
    },
    {
     "name": "stdout",
     "output_type": "stream",
     "text": [
      "[68]\ttrain-mape:0.22123\ttrain-mae:0.37263\ttrain-rmse:1.64580\teval-mape:0.22814\teval-mae:0.39339\teval-rmse:1.57112\n"
     ]
    },
    {
     "name": "stdout",
     "output_type": "stream",
     "text": [
      "[69]\ttrain-mape:0.22074\ttrain-mae:0.37175\ttrain-rmse:1.64249\teval-mape:0.22849\teval-mae:0.39376\teval-rmse:1.57188\n"
     ]
    },
    {
     "name": "stdout",
     "output_type": "stream",
     "text": [
      "[70]\ttrain-mape:0.22097\ttrain-mae:0.37185\ttrain-rmse:1.63998\teval-mape:0.22918\teval-mae:0.39444\teval-rmse:1.57192\n"
     ]
    },
    {
     "name": "stdout",
     "output_type": "stream",
     "text": [
      "[71]\ttrain-mape:0.22059\ttrain-mae:0.37140\ttrain-rmse:1.63527\teval-mape:0.22879\teval-mae:0.39410\teval-rmse:1.57216\n"
     ]
    },
    {
     "name": "stdout",
     "output_type": "stream",
     "text": [
      "[72]\ttrain-mape:0.22052\ttrain-mae:0.37123\ttrain-rmse:1.63106\teval-mape:0.22835\teval-mae:0.39395\teval-rmse:1.57677\n"
     ]
    },
    {
     "name": "stdout",
     "output_type": "stream",
     "text": [
      "[73]\ttrain-mape:0.22052\ttrain-mae:0.37119\ttrain-rmse:1.63083\teval-mape:0.22817\teval-mae:0.39374\teval-rmse:1.57654\n"
     ]
    },
    {
     "name": "stdout",
     "output_type": "stream",
     "text": [
      "[74]\ttrain-mape:0.22019\ttrain-mae:0.37058\ttrain-rmse:1.62792\teval-mape:0.22971\teval-mae:0.39479\teval-rmse:1.57389\n"
     ]
    },
    {
     "name": "stdout",
     "output_type": "stream",
     "text": [
      "[75]\ttrain-mape:0.22019\ttrain-mae:0.37041\ttrain-rmse:1.62130\teval-mape:0.22982\teval-mae:0.39487\teval-rmse:1.57392\n"
     ]
    },
    {
     "name": "stdout",
     "output_type": "stream",
     "text": [
      "[76]\ttrain-mape:0.22016\ttrain-mae:0.37031\ttrain-rmse:1.62095\teval-mape:0.22973\teval-mae:0.39476\teval-rmse:1.57388\n"
     ]
    },
    {
     "name": "stdout",
     "output_type": "stream",
     "text": [
      "[77]\ttrain-mape:0.22012\ttrain-mae:0.37014\ttrain-rmse:1.61910\teval-mape:0.23009\teval-mae:0.39507\teval-rmse:1.57384\n"
     ]
    },
    {
     "name": "stdout",
     "output_type": "stream",
     "text": [
      "[78]\ttrain-mape:0.21996\ttrain-mae:0.36976\ttrain-rmse:1.61153\teval-mape:0.22947\teval-mae:0.39455\teval-rmse:1.57393\n"
     ]
    },
    {
     "name": "stdout",
     "output_type": "stream",
     "text": [
      "[79]\ttrain-mape:0.21993\ttrain-mae:0.36960\ttrain-rmse:1.61052\teval-mape:0.22897\teval-mae:0.39399\teval-rmse:1.57242\n"
     ]
    },
    {
     "name": "stdout",
     "output_type": "stream",
     "text": [
      "[80]\ttrain-mape:0.21966\ttrain-mae:0.36893\ttrain-rmse:1.60314\teval-mape:0.22982\teval-mae:0.39437\teval-rmse:1.57291\n"
     ]
    },
    {
     "name": "stdout",
     "output_type": "stream",
     "text": [
      "[81]\ttrain-mape:0.21917\ttrain-mae:0.36835\ttrain-rmse:1.59613\teval-mape:0.22908\teval-mae:0.39372\teval-rmse:1.57305\n"
     ]
    },
    {
     "name": "stdout",
     "output_type": "stream",
     "text": [
      "[82]\ttrain-mape:0.21911\ttrain-mae:0.36810\ttrain-rmse:1.59177\teval-mape:0.22999\teval-mae:0.39488\teval-rmse:1.57781\n"
     ]
    },
    {
     "name": "stdout",
     "output_type": "stream",
     "text": [
      "[83]\ttrain-mape:0.21900\ttrain-mae:0.36779\ttrain-rmse:1.58741\teval-mape:0.23101\teval-mae:0.39571\teval-rmse:1.57737\n"
     ]
    },
    {
     "name": "stdout",
     "output_type": "stream",
     "text": [
      "[84]\ttrain-mape:0.21901\ttrain-mae:0.36758\ttrain-rmse:1.58604\teval-mape:0.23122\teval-mae:0.39578\teval-rmse:1.57723\n"
     ]
    },
    {
     "name": "stdout",
     "output_type": "stream",
     "text": [
      "[85]\ttrain-mape:0.21903\ttrain-mae:0.36753\ttrain-rmse:1.58388\teval-mape:0.23128\teval-mae:0.39584\teval-rmse:1.57723\n"
     ]
    },
    {
     "name": "stdout",
     "output_type": "stream",
     "text": [
      "[86]\ttrain-mape:0.21873\ttrain-mae:0.36700\ttrain-rmse:1.58147\teval-mape:0.23067\teval-mae:0.39548\teval-rmse:1.57833\n"
     ]
    },
    {
     "name": "stdout",
     "output_type": "stream",
     "text": [
      "[87]\ttrain-mape:0.21862\ttrain-mae:0.36676\ttrain-rmse:1.58073\teval-mape:0.23057\teval-mae:0.39543\teval-rmse:1.57845\n"
     ]
    },
    {
     "name": "stdout",
     "output_type": "stream",
     "text": [
      "[88]\ttrain-mape:0.21860\ttrain-mae:0.36671\ttrain-rmse:1.58027\teval-mape:0.23050\teval-mae:0.39539\teval-rmse:1.57843\n"
     ]
    },
    {
     "name": "stdout",
     "output_type": "stream",
     "text": [
      "[89]\ttrain-mape:0.21841\ttrain-mae:0.36635\ttrain-rmse:1.57961\teval-mape:0.23028\teval-mae:0.39520\teval-rmse:1.57862\n"
     ]
    },
    {
     "name": "stdout",
     "output_type": "stream",
     "text": [
      "[90]\ttrain-mape:0.21823\ttrain-mae:0.36611\ttrain-rmse:1.57911\teval-mape:0.22933\teval-mae:0.39437\teval-rmse:1.57877\n"
     ]
    },
    {
     "name": "stdout",
     "output_type": "stream",
     "text": [
      "[91]\ttrain-mape:0.21824\ttrain-mae:0.36604\ttrain-rmse:1.57703\teval-mape:0.22932\teval-mae:0.39437\teval-rmse:1.57801\n"
     ]
    },
    {
     "name": "stdout",
     "output_type": "stream",
     "text": [
      "[92]\ttrain-mape:0.21784\ttrain-mae:0.36547\ttrain-rmse:1.57345\teval-mape:0.22916\teval-mae:0.39426\teval-rmse:1.57978\n"
     ]
    },
    {
     "name": "stdout",
     "output_type": "stream",
     "text": [
      "[93]\ttrain-mape:0.21783\ttrain-mae:0.36522\ttrain-rmse:1.56865\teval-mape:0.22921\teval-mae:0.39445\teval-rmse:1.58106\n"
     ]
    },
    {
     "name": "stdout",
     "output_type": "stream",
     "text": [
      "[94]\ttrain-mape:0.21800\ttrain-mae:0.36532\ttrain-rmse:1.56809\teval-mape:0.22938\teval-mae:0.39451\teval-rmse:1.58084\n"
     ]
    },
    {
     "name": "stdout",
     "output_type": "stream",
     "text": [
      "[95]\ttrain-mape:0.21786\ttrain-mae:0.36508\ttrain-rmse:1.56727\teval-mape:0.22955\teval-mae:0.39468\teval-rmse:1.58072\n"
     ]
    },
    {
     "name": "stdout",
     "output_type": "stream",
     "text": [
      "[96]\ttrain-mape:0.21773\ttrain-mae:0.36483\ttrain-rmse:1.56074\teval-mape:0.22936\teval-mae:0.39403\teval-rmse:1.56532\n"
     ]
    },
    {
     "name": "stdout",
     "output_type": "stream",
     "text": [
      "[97]\ttrain-mape:0.21753\ttrain-mae:0.36448\ttrain-rmse:1.56050\teval-mape:0.22912\teval-mae:0.39369\teval-rmse:1.56527\n"
     ]
    },
    {
     "name": "stdout",
     "output_type": "stream",
     "text": [
      "AxesSubplot(0.125,0.125;0.775x0.755)\n",
      "AxesSubplot(0.125,0.125;0.775x0.755)\n"
     ]
    },
    {
     "name": "stdout",
     "output_type": "stream",
     "text": [
      "AxesSubplot(0.125,0.125;0.775x0.755)\n",
      "Test RMSE is:  9.754962031326457\n"
     ]
    },
    {
     "data": {
      "image/png": "[encoded data removed]",
      "text/plain": [
       "<Figure size 432x288 with 1 Axes>"
      ]
     },
     "metadata": {
      "needs_background": "light"
     },
     "output_type": "display_data"
    },
    {
     "data": {
      "image/png": "[encoded data removed]",
      "text/plain": [
       "<Figure size 720x216 with 1 Axes>"
      ]
     },
     "metadata": {
      "needs_background": "light"
     },
     "output_type": "display_data"
    },
    {
     "data": {
      "image/png": "[encoded data removed]",
      "text/plain": [
       "<Figure size 720x216 with 1 Axes>"
      ]
     },
     "metadata": {
      "needs_background": "light"
     },
     "output_type": "display_data"
    }
   ],
   "source": [
    "# add in feature engineering\n",
    "#\n",
    "# results:\n",
    "#\n",
    "# excellent improvement in rmse on validation\n",
    "# not great rmse on test (not terrible).\n",
    "# perhaps majority of test rmse error comes from a single day at the end of october\n",
    "# googled russian holidays, but don't see anything to explain this\n",
    "# otherwise, decent looking summarising graphs for validation and test\n",
    "\n",
    "\n",
    "# feature engineering parameters\n",
    "# use all data, last month for test, 2nd last month for validation\n",
    "train_val_test_dates = ['2013-01-01', '2015-09-01', '2015-10-01']\n",
    "extra_features = True\n",
    "only_normal_shops = True\n",
    "only_normal_items = True\n",
    "\n",
    "num_trees = 98\n",
    "\n",
    "save_figs = 'add_features'\n",
    "\n",
    "summarize_model(num_trees=num_trees,\n",
    "                train_val_test_dates=train_val_test_dates,\n",
    "                extra_features=extra_features,\n",
    "                only_normal_shops=only_normal_shops,\n",
    "                only_normal_items=only_normal_items,\n",
    "                save_figs=save_figs)\n"
   ]
  },
  {
   "cell_type": "code",
   "execution_count": 32,
   "metadata": {
    "collapsed": false
   },
   "outputs": [
    {
     "name": "stdout",
     "output_type": "stream",
     "text": [
      "[0]\ttrain-mape:0.35101\ttrain-mae:0.54199\ttrain-rmse:2.92057\teval-mape:0.35655\teval-mae:0.57762\teval-rmse:1.69105\n"
     ]
    },
    {
     "name": "stdout",
     "output_type": "stream",
     "text": [
      "[1]\ttrain-mape:0.23938\ttrain-mae:0.41030\ttrain-rmse:2.68767\teval-mape:0.24354\teval-mae:0.44568\teval-rmse:1.60775\n"
     ]
    },
    {
     "name": "stdout",
     "output_type": "stream",
     "text": [
      "[2]\ttrain-mape:0.17034\ttrain-mae:0.33002\ttrain-rmse:2.56106\teval-mape:0.18548\teval-mae:0.37612\teval-rmse:1.56252\n"
     ]
    },
    {
     "name": "stdout",
     "output_type": "stream",
     "text": [
      "[3]\ttrain-mape:0.13752\ttrain-mae:0.28890\ttrain-rmse:2.47634\teval-mape:0.15040\teval-mae:0.33430\teval-rmse:1.54360\n"
     ]
    },
    {
     "name": "stdout",
     "output_type": "stream",
     "text": [
      "[4]\ttrain-mape:0.12667\ttrain-mae:0.27137\ttrain-rmse:2.33169\teval-mape:0.13016\teval-mae:0.31026\teval-rmse:1.52804\n"
     ]
    },
    {
     "name": "stdout",
     "output_type": "stream",
     "text": [
      "[5]\ttrain-mape:0.13553\ttrain-mae:0.27679\ttrain-rmse:2.25702\teval-mape:0.13207\teval-mae:0.30925\teval-rmse:1.51907\n"
     ]
    },
    {
     "name": "stdout",
     "output_type": "stream",
     "text": [
      "[6]\ttrain-mape:0.14908\ttrain-mae:0.28779\ttrain-rmse:2.22463\teval-mape:0.14101\teval-mae:0.31561\teval-rmse:1.51078\n"
     ]
    },
    {
     "name": "stdout",
     "output_type": "stream",
     "text": [
      "[7]\ttrain-mape:0.15910\ttrain-mae:0.29501\ttrain-rmse:2.17365\teval-mape:0.14513\teval-mae:0.31949\teval-rmse:1.51040\n"
     ]
    },
    {
     "name": "stdout",
     "output_type": "stream",
     "text": [
      "[8]\ttrain-mape:0.16813\ttrain-mae:0.30293\ttrain-rmse:2.14940\teval-mape:0.14896\teval-mae:0.32297\teval-rmse:1.50521\n"
     ]
    },
    {
     "name": "stdout",
     "output_type": "stream",
     "text": [
      "[9]\ttrain-mape:0.17535\ttrain-mae:0.30915\ttrain-rmse:2.13261\teval-mape:0.15617\teval-mae:0.32895\teval-rmse:1.49929\n"
     ]
    },
    {
     "name": "stdout",
     "output_type": "stream",
     "text": [
      "[10]\ttrain-mape:0.18006\ttrain-mae:0.31194\ttrain-rmse:2.02880\teval-mape:0.16269\teval-mae:0.33450\teval-rmse:1.48547\n"
     ]
    },
    {
     "name": "stdout",
     "output_type": "stream",
     "text": [
      "[11]\ttrain-mape:0.18397\ttrain-mae:0.31509\ttrain-rmse:2.01518\teval-mape:0.16543\teval-mae:0.33756\teval-rmse:1.48606\n"
     ]
    },
    {
     "name": "stdout",
     "output_type": "stream",
     "text": [
      "[12]\ttrain-mape:0.18640\ttrain-mae:0.31687\ttrain-rmse:2.00820\teval-mape:0.16339\teval-mae:0.33536\teval-rmse:1.48399\n"
     ]
    },
    {
     "name": "stdout",
     "output_type": "stream",
     "text": [
      "[13]\ttrain-mape:0.18574\ttrain-mae:0.31441\ttrain-rmse:1.94269\teval-mape:0.16324\teval-mae:0.33502\teval-rmse:1.48244\n"
     ]
    },
    {
     "name": "stdout",
     "output_type": "stream",
     "text": [
      "[14]\ttrain-mape:0.18662\ttrain-mae:0.31503\ttrain-rmse:1.92538\teval-mape:0.16460\teval-mae:0.33613\teval-rmse:1.47435\n"
     ]
    },
    {
     "name": "stdout",
     "output_type": "stream",
     "text": [
      "[15]\ttrain-mape:0.18712\ttrain-mae:0.31474\ttrain-rmse:1.90654\teval-mape:0.16450\teval-mae:0.33607\teval-rmse:1.47821\n"
     ]
    },
    {
     "name": "stdout",
     "output_type": "stream",
     "text": [
      "[16]\ttrain-mape:0.18720\ttrain-mae:0.31420\ttrain-rmse:1.87548\teval-mape:0.16311\teval-mae:0.33470\teval-rmse:1.47858\n"
     ]
    },
    {
     "name": "stdout",
     "output_type": "stream",
     "text": [
      "[17]\ttrain-mape:0.18797\ttrain-mae:0.31421\ttrain-rmse:1.86923\teval-mape:0.16851\teval-mae:0.33898\teval-rmse:1.47547\n"
     ]
    },
    {
     "name": "stdout",
     "output_type": "stream",
     "text": [
      "[18]\ttrain-mape:0.18740\ttrain-mae:0.31287\ttrain-rmse:1.85732\teval-mape:0.16852\teval-mae:0.33859\teval-rmse:1.47110\n"
     ]
    },
    {
     "name": "stdout",
     "output_type": "stream",
     "text": [
      "[19]\ttrain-mape:0.18532\ttrain-mae:0.30947\ttrain-rmse:1.78218\teval-mape:0.17047\teval-mae:0.34007\teval-rmse:1.46904\n"
     ]
    },
    {
     "name": "stdout",
     "output_type": "stream",
     "text": [
      "[20]\ttrain-mape:0.18494\ttrain-mae:0.30825\ttrain-rmse:1.72775\teval-mape:0.17058\teval-mae:0.33964\teval-rmse:1.46780\n"
     ]
    },
    {
     "name": "stdout",
     "output_type": "stream",
     "text": [
      "[21]\ttrain-mape:0.18503\ttrain-mae:0.30763\ttrain-rmse:1.71690\teval-mape:0.17179\teval-mae:0.34082\teval-rmse:1.46663\n"
     ]
    },
    {
     "name": "stdout",
     "output_type": "stream",
     "text": [
      "[22]\ttrain-mape:0.18461\ttrain-mae:0.30671\ttrain-rmse:1.70876\teval-mape:0.17195\teval-mae:0.34095\teval-rmse:1.46662\n"
     ]
    },
    {
     "name": "stdout",
     "output_type": "stream",
     "text": [
      "[23]\ttrain-mape:0.18342\ttrain-mae:0.30500\ttrain-rmse:1.65440\teval-mape:0.17131\teval-mae:0.34086\teval-rmse:1.47399\n"
     ]
    },
    {
     "name": "stdout",
     "output_type": "stream",
     "text": [
      "[24]\ttrain-mape:0.18251\ttrain-mae:0.30339\ttrain-rmse:1.62588\teval-mape:0.17181\teval-mae:0.34096\teval-rmse:1.47110\n"
     ]
    },
    {
     "name": "stdout",
     "output_type": "stream",
     "text": [
      "[25]\ttrain-mape:0.18261\ttrain-mae:0.30327\ttrain-rmse:1.61998\teval-mape:0.17229\teval-mae:0.34148\teval-rmse:1.47115\n"
     ]
    },
    {
     "name": "stdout",
     "output_type": "stream",
     "text": [
      "[26]\ttrain-mape:0.18200\ttrain-mae:0.30202\ttrain-rmse:1.61059\teval-mape:0.17291\teval-mae:0.34222\teval-rmse:1.47235\n"
     ]
    },
    {
     "name": "stdout",
     "output_type": "stream",
     "text": [
      "[27]\ttrain-mape:0.18015\ttrain-mae:0.29854\ttrain-rmse:1.54967\teval-mape:0.17246\teval-mae:0.34162\teval-rmse:1.47182\n"
     ]
    },
    {
     "name": "stdout",
     "output_type": "stream",
     "text": [
      "[28]\ttrain-mape:0.18074\ttrain-mae:0.29870\ttrain-rmse:1.54060\teval-mape:0.17297\teval-mae:0.34238\teval-rmse:1.47233\n"
     ]
    },
    {
     "name": "stdout",
     "output_type": "stream",
     "text": [
      "[29]\ttrain-mape:0.18024\ttrain-mae:0.29765\ttrain-rmse:1.53918\teval-mape:0.17331\teval-mae:0.34238\teval-rmse:1.47187\n"
     ]
    },
    {
     "name": "stdout",
     "output_type": "stream",
     "text": [
      "[30]\ttrain-mape:0.18010\ttrain-mae:0.29722\ttrain-rmse:1.52898\teval-mape:0.17319\teval-mae:0.34212\teval-rmse:1.47064\n"
     ]
    },
    {
     "name": "stdout",
     "output_type": "stream",
     "text": [
      "[31]\ttrain-mape:0.17971\ttrain-mae:0.29627\ttrain-rmse:1.51878\teval-mape:0.17311\teval-mae:0.34218\teval-rmse:1.47361\n"
     ]
    },
    {
     "name": "stdout",
     "output_type": "stream",
     "text": [
      "[32]\ttrain-mape:0.17924\ttrain-mae:0.29545\ttrain-rmse:1.51104\teval-mape:0.17275\teval-mae:0.34172\teval-rmse:1.47372\n"
     ]
    },
    {
     "name": "stdout",
     "output_type": "stream",
     "text": [
      "[33]\ttrain-mape:0.17929\ttrain-mae:0.29536\ttrain-rmse:1.51002\teval-mape:0.17482\teval-mae:0.34351\teval-rmse:1.47568\n"
     ]
    },
    {
     "name": "stdout",
     "output_type": "stream",
     "text": [
      "[34]\ttrain-mape:0.17879\ttrain-mae:0.29450\ttrain-rmse:1.50786\teval-mape:0.17425\teval-mae:0.34282\teval-rmse:1.47428\n"
     ]
    },
    {
     "name": "stdout",
     "output_type": "stream",
     "text": [
      "[35]\ttrain-mape:0.17860\ttrain-mae:0.29414\ttrain-rmse:1.50656\teval-mape:0.17463\teval-mae:0.34305\teval-rmse:1.47395\n"
     ]
    },
    {
     "name": "stdout",
     "output_type": "stream",
     "text": [
      "[36]\ttrain-mape:0.17860\ttrain-mae:0.29393\ttrain-rmse:1.50268\teval-mape:0.17417\teval-mae:0.34277\teval-rmse:1.47477\n"
     ]
    },
    {
     "name": "stdout",
     "output_type": "stream",
     "text": [
      "[37]\ttrain-mape:0.17849\ttrain-mae:0.29301\ttrain-rmse:1.47890\teval-mape:0.17479\teval-mae:0.34340\teval-rmse:1.47544\n"
     ]
    },
    {
     "name": "stdout",
     "output_type": "stream",
     "text": [
      "[38]\ttrain-mape:0.17846\ttrain-mae:0.29268\ttrain-rmse:1.47490\teval-mape:0.17519\teval-mae:0.34397\teval-rmse:1.47621\n"
     ]
    },
    {
     "name": "stdout",
     "output_type": "stream",
     "text": [
      "AxesSubplot(0.125,0.125;0.775x0.755)\n",
      "AxesSubplot(0.125,0.125;0.775x0.755)\n"
     ]
    },
    {
     "name": "stdout",
     "output_type": "stream",
     "text": [
      "AxesSubplot(0.125,0.125;0.775x0.755)\n",
      "Test RMSE is:  10.024865745802856\n"
     ]
    },
    {
     "data": {
      "image/png": "[encoded data removed]",
      "text/plain": [
       "<Figure size 432x288 with 1 Axes>"
      ]
     },
     "metadata": {
      "needs_background": "light"
     },
     "output_type": "display_data"
    },
    {
     "data": {
      "image/png": "[encoded data removed]",
      "text/plain": [
       "<Figure size 720x216 with 1 Axes>"
      ]
     },
     "metadata": {
      "needs_background": "light"
     },
     "output_type": "display_data"
    },
    {
     "data": {
      "image/png": "[encoded data removed]",
      "text/plain": [
       "<Figure size 720x216 with 1 Axes>"
      ]
     },
     "metadata": {
      "needs_background": "light"
     },
     "output_type": "display_data"
    }
   ],
   "source": [
    "# add in feature engineering, use only most recent year of data\n",
    "#\n",
    "# results:\n",
    "#\n",
    "# no major difference from using all of the data\n",
    "# if anything, mse on test worsens using only data from 2015\n",
    "\n",
    "# feature engineering parameters\n",
    "# use 2015 data, last month for test, 2nd last month for validation\n",
    "train_val_test_dates = ['2015-01-01', '2015-09-01', '2015-10-01']\n",
    "extra_features = True\n",
    "only_normal_shops = True\n",
    "only_normal_items = True\n",
    "\n",
    "num_trees = 39\n",
    "\n",
    "save_figs='add_features_2015'\n",
    "\n",
    "summarize_model(num_trees=num_trees,\n",
    "                train_val_test_dates=train_val_test_dates,\n",
    "                extra_features=extra_features,\n",
    "                only_normal_shops=only_normal_shops,\n",
    "                only_normal_items=only_normal_items,\n",
    "                save_figs=save_figs)\n"
   ]
  },
  {
   "cell_type": "code",
   "execution_count": null,
   "metadata": {
    "collapsed": false
   },
   "outputs": [],
   "source": []
  }
 ],
 "metadata": {
  "kernelspec": {
   "argv": [
    "/usr/bin/python3",
    "-m",
    "ipykernel_launcher",
    "-f",
    "{connection_file}"
   ],
   "display_name": "Python 3",
   "env": null,
   "interrupt_mode": "signal",
   "language": "python",
   "metadata": null,
   "name": "python3"
  },
  "name": "xgboost.ipynb"
 },
 "nbformat": 4,
 "nbformat_minor": 4
}
