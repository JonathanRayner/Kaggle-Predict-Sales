{
 "cells": [
  {
   "cell_type": "code",
   "execution_count": 1,
   "metadata": {
    "collapsed": false
   },
   "outputs": [],
   "source": [
    "import pandas as pd\n",
    "import numpy as np\n",
    "import matplotlib.pyplot as plt\n",
    "import xgboost as xgb"
   ]
  },
  {
   "cell_type": "code",
   "execution_count": null,
   "metadata": {
    "collapsed": false
   },
   "outputs": [],
   "source": [
    "class PrepareData:\n",
    "    \"\"\"\"\n",
    "    Class to prepare the data in \"train_clean.csv\" for xgboost, with options for feature engineering and other manipulation.\n",
    "\n",
    "    class Var:\n",
    "        df: imported \"train_clean.csv\", with dates set as index, as datetime objects, and sorted by dates.\n",
    "\n",
    "    Init Args:\n",
    "        train_start_date: 'YYYY-MM-DD' format\n",
    "        val_start_date: 'YYYY-MM-DD' format\n",
    "        test_start_date: 'YYYY-MM-DD' format\n",
    "        add_features=None: if True, item_category and an assortment of time-based features are added\n",
    "        only_normal_shops=False: some shops are not present in \"test.csv\" and tend to have unusual distributions. if True, exclude these.\n",
    "        only_normal_items=False: some items are not present in \"test.csv\". if True, exclude these.\n",
    "\n",
    "    Methods:\n",
    "        add_features:\n",
    "        train_val_test_split:\n",
    "\n",
    "    \"\"\"\n",
    "    df = pd.read_csv(\"train_clean.csv\", index_col=[0], parse_dates=[0], dayfirst=True)\n",
    "    df = df.sort_index()\n",
    "\n",
    "    def __init__(self,\n",
    "                train_start_date,\n",
    "                val_start_date,\n",
    "                test_start_date,\n",
    "                add_features=None,\n",
    "                only_normal_shops=False,\n",
    "                only_normal_items=False):\n",
    "\n",
    "    def add_features(self):\n",
    "        # get items csv and use id and categories columns as key to add item categories to dataframe\n",
    "        df['item_category_id'] = df['item_id'].map(items.set_index('item_id')['item_category_id'])\n",
    "\n",
    "        # add some time features, add the data as a column to do this, remove date at the end\n",
    "        df['date'] = df.index\n",
    "        df['dayofweek'] = df['date'].dt.dayofweek\n",
    "        df['month'] = df['date'].dt.month\n",
    "        df['year'] = df['date'].dt.year\n",
    "        df['dayofyear'] = df['date'].dt.dayofyear\n",
    "        df['dayofmonth'] = df['date'].dt.day\n",
    "\n",
    "        df.drop(columns='date', inplace=True)\n",
    "        return df\n",
    "\n",
    "    def train_val_test_split(self):\n",
    "        train = df[(train_start_date <= df.index) & df.index < val_start_date].copy()\n",
    "        validation = df[(val_start_date <= df.index) & (df.index < test_start_date)].copy()\n",
    "        test = df[test_start_date <= df.index].copy()\n",
    "\n",
    "    def make_dmatrix(dataframe, add_features=False):\n",
    "        \"\"\"\n",
    "        Convert pandas dataframe to DMatrix for xgboost, splitting off labels as need.\n",
    "        \"\"\"\n",
    "        X = dataframe.copy()\n",
    "        y = X.pop('item_cnt_day')\n",
    "        dmatrix = xgb.DMatrix(X, label=y)\n",
    "        return dmatrix\n",
    "\n"
   ]
  },
  {
   "cell_type": "code",
   "execution_count": 2,
   "metadata": {
    "collapsed": false
   },
   "outputs": [
    {
     "data": {
      "text/html": [
       "<div>\n",
       "<style scoped>\n",
       "    .dataframe tbody tr th:only-of-type {\n",
       "        vertical-align: middle;\n",
       "    }\n",
       "\n",
       "    .dataframe tbody tr th {\n",
       "        vertical-align: top;\n",
       "    }\n",
       "\n",
       "    .dataframe thead th {\n",
       "        text-align: right;\n",
       "    }\n",
       "</style>\n",
       "<table border=\"1\" class=\"dataframe\">\n",
       "  <thead>\n",
       "    <tr style=\"text-align: right;\">\n",
       "      <th></th>\n",
       "      <th>date_block_num</th>\n",
       "      <th>shop_id</th>\n",
       "      <th>item_id</th>\n",
       "      <th>item_price</th>\n",
       "      <th>item_cnt_day</th>\n",
       "    </tr>\n",
       "    <tr>\n",
       "      <th>date</th>\n",
       "      <th></th>\n",
       "      <th></th>\n",
       "      <th></th>\n",
       "      <th></th>\n",
       "      <th></th>\n",
       "    </tr>\n",
       "  </thead>\n",
       "  <tbody>\n",
       "    <tr>\n",
       "      <th>2015-10-31</th>\n",
       "      <td>33</td>\n",
       "      <td>50</td>\n",
       "      <td>5003</td>\n",
       "      <td>3999.0</td>\n",
       "      <td>1.0</td>\n",
       "    </tr>\n",
       "    <tr>\n",
       "      <th>2015-10-31</th>\n",
       "      <td>33</td>\n",
       "      <td>26</td>\n",
       "      <td>3353</td>\n",
       "      <td>3999.0</td>\n",
       "      <td>1.0</td>\n",
       "    </tr>\n",
       "    <tr>\n",
       "      <th>2015-10-31</th>\n",
       "      <td>33</td>\n",
       "      <td>50</td>\n",
       "      <td>4872</td>\n",
       "      <td>1499.0</td>\n",
       "      <td>2.0</td>\n",
       "    </tr>\n",
       "    <tr>\n",
       "      <th>2015-10-31</th>\n",
       "      <td>33</td>\n",
       "      <td>25</td>\n",
       "      <td>13240</td>\n",
       "      <td>450.0</td>\n",
       "      <td>2.0</td>\n",
       "    </tr>\n",
       "    <tr>\n",
       "      <th>2015-10-31</th>\n",
       "      <td>33</td>\n",
       "      <td>19</td>\n",
       "      <td>20949</td>\n",
       "      <td>5.0</td>\n",
       "      <td>2.0</td>\n",
       "    </tr>\n",
       "  </tbody>\n",
       "</table>\n",
       "</div>"
      ],
      "text/plain": [
       "            date_block_num  shop_id  item_id  item_price  item_cnt_day\n",
       "date                                                                  \n",
       "2015-10-31              33       50     5003      3999.0           1.0\n",
       "2015-10-31              33       26     3353      3999.0           1.0\n",
       "2015-10-31              33       50     4872      1499.0           2.0\n",
       "2015-10-31              33       25    13240       450.0           2.0\n",
       "2015-10-31              33       19    20949         5.0           2.0"
      ]
     },
     "execution_count": 2,
     "metadata": {},
     "output_type": "execute_result"
    }
   ],
   "source": [
    "# import cleaned training data\n",
    "# convert dates to datetime object, use dates as index, sort by date\n",
    "df = pd.read_csv(\"train_clean.csv\", index_col=[0], parse_dates=[0], dayfirst=True)\n",
    "\n",
    "df = df.sort_index()\n",
    "df.tail()"
   ]
  },
  {
   "cell_type": "code",
   "execution_count": 3,
   "metadata": {
    "collapsed": false
   },
   "outputs": [
    {
     "data": {
      "text/html": [
       "<div>\n",
       "<style scoped>\n",
       "    .dataframe tbody tr th:only-of-type {\n",
       "        vertical-align: middle;\n",
       "    }\n",
       "\n",
       "    .dataframe tbody tr th {\n",
       "        vertical-align: top;\n",
       "    }\n",
       "\n",
       "    .dataframe thead th {\n",
       "        text-align: right;\n",
       "    }\n",
       "</style>\n",
       "<table border=\"1\" class=\"dataframe\">\n",
       "  <thead>\n",
       "    <tr style=\"text-align: right;\">\n",
       "      <th></th>\n",
       "      <th>date_block_num</th>\n",
       "      <th>shop_id</th>\n",
       "      <th>item_id</th>\n",
       "      <th>item_price</th>\n",
       "      <th>item_cnt_day</th>\n",
       "    </tr>\n",
       "    <tr>\n",
       "      <th>date</th>\n",
       "      <th></th>\n",
       "      <th></th>\n",
       "      <th></th>\n",
       "      <th></th>\n",
       "      <th></th>\n",
       "    </tr>\n",
       "  </thead>\n",
       "  <tbody>\n",
       "    <tr>\n",
       "      <th>2013-01-01</th>\n",
       "      <td>0</td>\n",
       "      <td>15</td>\n",
       "      <td>2822</td>\n",
       "      <td>399.00</td>\n",
       "      <td>1.0</td>\n",
       "    </tr>\n",
       "    <tr>\n",
       "      <th>2013-01-01</th>\n",
       "      <td>0</td>\n",
       "      <td>54</td>\n",
       "      <td>6595</td>\n",
       "      <td>549.00</td>\n",
       "      <td>1.0</td>\n",
       "    </tr>\n",
       "    <tr>\n",
       "      <th>2013-01-01</th>\n",
       "      <td>0</td>\n",
       "      <td>7</td>\n",
       "      <td>16146</td>\n",
       "      <td>1399.00</td>\n",
       "      <td>1.0</td>\n",
       "    </tr>\n",
       "    <tr>\n",
       "      <th>2013-01-01</th>\n",
       "      <td>0</td>\n",
       "      <td>7</td>\n",
       "      <td>16170</td>\n",
       "      <td>1999.00</td>\n",
       "      <td>1.0</td>\n",
       "    </tr>\n",
       "    <tr>\n",
       "      <th>2013-01-01</th>\n",
       "      <td>0</td>\n",
       "      <td>28</td>\n",
       "      <td>6495</td>\n",
       "      <td>699.00</td>\n",
       "      <td>2.0</td>\n",
       "    </tr>\n",
       "    <tr>\n",
       "      <th>...</th>\n",
       "      <td>...</td>\n",
       "      <td>...</td>\n",
       "      <td>...</td>\n",
       "      <td>...</td>\n",
       "      <td>...</td>\n",
       "    </tr>\n",
       "    <tr>\n",
       "      <th>2015-08-31</th>\n",
       "      <td>31</td>\n",
       "      <td>31</td>\n",
       "      <td>13720</td>\n",
       "      <td>229.00</td>\n",
       "      <td>1.0</td>\n",
       "    </tr>\n",
       "    <tr>\n",
       "      <th>2015-08-31</th>\n",
       "      <td>31</td>\n",
       "      <td>39</td>\n",
       "      <td>20949</td>\n",
       "      <td>5.00</td>\n",
       "      <td>2.0</td>\n",
       "    </tr>\n",
       "    <tr>\n",
       "      <th>2015-08-31</th>\n",
       "      <td>31</td>\n",
       "      <td>31</td>\n",
       "      <td>16156</td>\n",
       "      <td>1299.00</td>\n",
       "      <td>1.0</td>\n",
       "    </tr>\n",
       "    <tr>\n",
       "      <th>2015-08-31</th>\n",
       "      <td>31</td>\n",
       "      <td>41</td>\n",
       "      <td>5999</td>\n",
       "      <td>499.00</td>\n",
       "      <td>1.0</td>\n",
       "    </tr>\n",
       "    <tr>\n",
       "      <th>2015-08-31</th>\n",
       "      <td>31</td>\n",
       "      <td>38</td>\n",
       "      <td>1540</td>\n",
       "      <td>1052.13</td>\n",
       "      <td>1.0</td>\n",
       "    </tr>\n",
       "  </tbody>\n",
       "</table>\n",
       "<p>2831739 rows × 5 columns</p>\n",
       "</div>"
      ],
      "text/plain": [
       "            date_block_num  shop_id  item_id  item_price  item_cnt_day\n",
       "date                                                                  \n",
       "2013-01-01               0       15     2822      399.00           1.0\n",
       "2013-01-01               0       54     6595      549.00           1.0\n",
       "2013-01-01               0        7    16146     1399.00           1.0\n",
       "2013-01-01               0        7    16170     1999.00           1.0\n",
       "2013-01-01               0       28     6495      699.00           2.0\n",
       "...                    ...      ...      ...         ...           ...\n",
       "2015-08-31              31       31    13720      229.00           1.0\n",
       "2015-08-31              31       39    20949        5.00           2.0\n",
       "2015-08-31              31       31    16156     1299.00           1.0\n",
       "2015-08-31              31       41     5999      499.00           1.0\n",
       "2015-08-31              31       38     1540     1052.13           1.0\n",
       "\n",
       "[2831739 rows x 5 columns]"
      ]
     },
     "metadata": {},
     "output_type": "display_data"
    },
    {
     "data": {
      "text/html": [
       "<div>\n",
       "<style scoped>\n",
       "    .dataframe tbody tr th:only-of-type {\n",
       "        vertical-align: middle;\n",
       "    }\n",
       "\n",
       "    .dataframe tbody tr th {\n",
       "        vertical-align: top;\n",
       "    }\n",
       "\n",
       "    .dataframe thead th {\n",
       "        text-align: right;\n",
       "    }\n",
       "</style>\n",
       "<table border=\"1\" class=\"dataframe\">\n",
       "  <thead>\n",
       "    <tr style=\"text-align: right;\">\n",
       "      <th></th>\n",
       "      <th>date_block_num</th>\n",
       "      <th>shop_id</th>\n",
       "      <th>item_id</th>\n",
       "      <th>item_price</th>\n",
       "      <th>item_cnt_day</th>\n",
       "    </tr>\n",
       "    <tr>\n",
       "      <th>date</th>\n",
       "      <th></th>\n",
       "      <th></th>\n",
       "      <th></th>\n",
       "      <th></th>\n",
       "      <th></th>\n",
       "    </tr>\n",
       "  </thead>\n",
       "  <tbody>\n",
       "    <tr>\n",
       "      <th>2015-09-01</th>\n",
       "      <td>32</td>\n",
       "      <td>25</td>\n",
       "      <td>15798</td>\n",
       "      <td>399.0</td>\n",
       "      <td>2.0</td>\n",
       "    </tr>\n",
       "    <tr>\n",
       "      <th>2015-09-01</th>\n",
       "      <td>32</td>\n",
       "      <td>19</td>\n",
       "      <td>5823</td>\n",
       "      <td>2799.0</td>\n",
       "      <td>1.0</td>\n",
       "    </tr>\n",
       "    <tr>\n",
       "      <th>2015-09-01</th>\n",
       "      <td>32</td>\n",
       "      <td>19</td>\n",
       "      <td>6064</td>\n",
       "      <td>1199.0</td>\n",
       "      <td>1.0</td>\n",
       "    </tr>\n",
       "    <tr>\n",
       "      <th>2015-09-01</th>\n",
       "      <td>32</td>\n",
       "      <td>19</td>\n",
       "      <td>6687</td>\n",
       "      <td>299.0</td>\n",
       "      <td>1.0</td>\n",
       "    </tr>\n",
       "    <tr>\n",
       "      <th>2015-09-01</th>\n",
       "      <td>32</td>\n",
       "      <td>19</td>\n",
       "      <td>9356</td>\n",
       "      <td>399.0</td>\n",
       "      <td>1.0</td>\n",
       "    </tr>\n",
       "    <tr>\n",
       "      <th>...</th>\n",
       "      <td>...</td>\n",
       "      <td>...</td>\n",
       "      <td>...</td>\n",
       "      <td>...</td>\n",
       "      <td>...</td>\n",
       "    </tr>\n",
       "    <tr>\n",
       "      <th>2015-09-30</th>\n",
       "      <td>32</td>\n",
       "      <td>24</td>\n",
       "      <td>15805</td>\n",
       "      <td>399.0</td>\n",
       "      <td>1.0</td>\n",
       "    </tr>\n",
       "    <tr>\n",
       "      <th>2015-09-30</th>\n",
       "      <td>32</td>\n",
       "      <td>24</td>\n",
       "      <td>15069</td>\n",
       "      <td>2499.0</td>\n",
       "      <td>4.0</td>\n",
       "    </tr>\n",
       "    <tr>\n",
       "      <th>2015-09-30</th>\n",
       "      <td>32</td>\n",
       "      <td>24</td>\n",
       "      <td>4181</td>\n",
       "      <td>1290.0</td>\n",
       "      <td>1.0</td>\n",
       "    </tr>\n",
       "    <tr>\n",
       "      <th>2015-09-30</th>\n",
       "      <td>32</td>\n",
       "      <td>24</td>\n",
       "      <td>4102</td>\n",
       "      <td>349.0</td>\n",
       "      <td>1.0</td>\n",
       "    </tr>\n",
       "    <tr>\n",
       "      <th>2015-09-30</th>\n",
       "      <td>32</td>\n",
       "      <td>24</td>\n",
       "      <td>15303</td>\n",
       "      <td>959.0</td>\n",
       "      <td>1.0</td>\n",
       "    </tr>\n",
       "  </tbody>\n",
       "</table>\n",
       "<p>50588 rows × 5 columns</p>\n",
       "</div>"
      ],
      "text/plain": [
       "            date_block_num  shop_id  item_id  item_price  item_cnt_day\n",
       "date                                                                  \n",
       "2015-09-01              32       25    15798       399.0           2.0\n",
       "2015-09-01              32       19     5823      2799.0           1.0\n",
       "2015-09-01              32       19     6064      1199.0           1.0\n",
       "2015-09-01              32       19     6687       299.0           1.0\n",
       "2015-09-01              32       19     9356       399.0           1.0\n",
       "...                    ...      ...      ...         ...           ...\n",
       "2015-09-30              32       24    15805       399.0           1.0\n",
       "2015-09-30              32       24    15069      2499.0           4.0\n",
       "2015-09-30              32       24     4181      1290.0           1.0\n",
       "2015-09-30              32       24     4102       349.0           1.0\n",
       "2015-09-30              32       24    15303       959.0           1.0\n",
       "\n",
       "[50588 rows x 5 columns]"
      ]
     },
     "metadata": {},
     "output_type": "display_data"
    },
    {
     "data": {
      "text/html": [
       "<div>\n",
       "<style scoped>\n",
       "    .dataframe tbody tr th:only-of-type {\n",
       "        vertical-align: middle;\n",
       "    }\n",
       "\n",
       "    .dataframe tbody tr th {\n",
       "        vertical-align: top;\n",
       "    }\n",
       "\n",
       "    .dataframe thead th {\n",
       "        text-align: right;\n",
       "    }\n",
       "</style>\n",
       "<table border=\"1\" class=\"dataframe\">\n",
       "  <thead>\n",
       "    <tr style=\"text-align: right;\">\n",
       "      <th></th>\n",
       "      <th>date_block_num</th>\n",
       "      <th>shop_id</th>\n",
       "      <th>item_id</th>\n",
       "      <th>item_price</th>\n",
       "      <th>item_cnt_day</th>\n",
       "    </tr>\n",
       "    <tr>\n",
       "      <th>date</th>\n",
       "      <th></th>\n",
       "      <th></th>\n",
       "      <th></th>\n",
       "      <th></th>\n",
       "      <th></th>\n",
       "    </tr>\n",
       "  </thead>\n",
       "  <tbody>\n",
       "    <tr>\n",
       "      <th>2015-10-01</th>\n",
       "      <td>33</td>\n",
       "      <td>6</td>\n",
       "      <td>4721</td>\n",
       "      <td>3599.0</td>\n",
       "      <td>1.0</td>\n",
       "    </tr>\n",
       "    <tr>\n",
       "      <th>2015-10-01</th>\n",
       "      <td>33</td>\n",
       "      <td>6</td>\n",
       "      <td>3917</td>\n",
       "      <td>449.0</td>\n",
       "      <td>1.0</td>\n",
       "    </tr>\n",
       "    <tr>\n",
       "      <th>2015-10-01</th>\n",
       "      <td>33</td>\n",
       "      <td>6</td>\n",
       "      <td>7927</td>\n",
       "      <td>3290.0</td>\n",
       "      <td>1.0</td>\n",
       "    </tr>\n",
       "    <tr>\n",
       "      <th>2015-10-01</th>\n",
       "      <td>33</td>\n",
       "      <td>6</td>\n",
       "      <td>4181</td>\n",
       "      <td>1290.0</td>\n",
       "      <td>1.0</td>\n",
       "    </tr>\n",
       "    <tr>\n",
       "      <th>2015-10-01</th>\n",
       "      <td>33</td>\n",
       "      <td>6</td>\n",
       "      <td>5005</td>\n",
       "      <td>3999.0</td>\n",
       "      <td>1.0</td>\n",
       "    </tr>\n",
       "    <tr>\n",
       "      <th>...</th>\n",
       "      <td>...</td>\n",
       "      <td>...</td>\n",
       "      <td>...</td>\n",
       "      <td>...</td>\n",
       "      <td>...</td>\n",
       "    </tr>\n",
       "    <tr>\n",
       "      <th>2015-10-31</th>\n",
       "      <td>33</td>\n",
       "      <td>50</td>\n",
       "      <td>5003</td>\n",
       "      <td>3999.0</td>\n",
       "      <td>1.0</td>\n",
       "    </tr>\n",
       "    <tr>\n",
       "      <th>2015-10-31</th>\n",
       "      <td>33</td>\n",
       "      <td>26</td>\n",
       "      <td>3353</td>\n",
       "      <td>3999.0</td>\n",
       "      <td>1.0</td>\n",
       "    </tr>\n",
       "    <tr>\n",
       "      <th>2015-10-31</th>\n",
       "      <td>33</td>\n",
       "      <td>50</td>\n",
       "      <td>4872</td>\n",
       "      <td>1499.0</td>\n",
       "      <td>2.0</td>\n",
       "    </tr>\n",
       "    <tr>\n",
       "      <th>2015-10-31</th>\n",
       "      <td>33</td>\n",
       "      <td>25</td>\n",
       "      <td>13240</td>\n",
       "      <td>450.0</td>\n",
       "      <td>2.0</td>\n",
       "    </tr>\n",
       "    <tr>\n",
       "      <th>2015-10-31</th>\n",
       "      <td>33</td>\n",
       "      <td>19</td>\n",
       "      <td>20949</td>\n",
       "      <td>5.0</td>\n",
       "      <td>2.0</td>\n",
       "    </tr>\n",
       "  </tbody>\n",
       "</table>\n",
       "<p>53514 rows × 5 columns</p>\n",
       "</div>"
      ],
      "text/plain": [
       "            date_block_num  shop_id  item_id  item_price  item_cnt_day\n",
       "date                                                                  \n",
       "2015-10-01              33        6     4721      3599.0           1.0\n",
       "2015-10-01              33        6     3917       449.0           1.0\n",
       "2015-10-01              33        6     7927      3290.0           1.0\n",
       "2015-10-01              33        6     4181      1290.0           1.0\n",
       "2015-10-01              33        6     5005      3999.0           1.0\n",
       "...                    ...      ...      ...         ...           ...\n",
       "2015-10-31              33       50     5003      3999.0           1.0\n",
       "2015-10-31              33       26     3353      3999.0           1.0\n",
       "2015-10-31              33       50     4872      1499.0           2.0\n",
       "2015-10-31              33       25    13240       450.0           2.0\n",
       "2015-10-31              33       19    20949         5.0           2.0\n",
       "\n",
       "[53514 rows x 5 columns]"
      ]
     },
     "metadata": {},
     "output_type": "display_data"
    }
   ],
   "source": [
    "# 2nd to last month (sep 2015) as validation\n",
    "# last month (oct 2015) as test\n",
    "\n",
    "val_start_date, test_start_date = '2015-09-01', '2015-10-01'\n",
    "\n",
    "train = df[df.index < val_start_date].copy()\n",
    "validation = df[(val_start_date <= df.index) & (df.index < test_start_date)].copy()\n",
    "test = df[test_start_date <= df.index].copy()\n",
    "\n"
   ]
  },
  {
   "cell_type": "code",
   "execution_count": 15,
   "metadata": {
    "collapsed": false
   },
   "outputs": [],
   "source": [
    "def xgb_data_prepare(dataframe, add_features=False):\n",
    "    \"\"\"\n",
    "    Convert pandas dataframe to DMatrix for xgboost, splitting off labels as need. If feature engineering is enabled, perform this first.\n",
    "    \"\"\"\n",
    "    X = dataframe.copy()\n",
    "    if add_features:\n",
    "        X = add_features(X)\n",
    "    y = X.pop('item_cnt_day')\n",
    "    dmatrix = xgb.DMatrix(X, label=y)\n",
    "    return dmatrix\n"
   ]
  },
  {
   "cell_type": "code",
   "execution_count": 5,
   "metadata": {
    "collapsed": false
   },
   "outputs": [],
   "source": [
    "# convert data to format for xgboost\n",
    "dtrain, dvalidation, dtest = xgb_data_prepare(train), xgb_data_prepare(validation), xgb_data_prepare(test)"
   ]
  },
  {
   "cell_type": "code",
   "execution_count": null,
   "metadata": {
    "collapsed": false
   },
   "outputs": [],
   "source": []
  },
  {
   "cell_type": "code",
   "execution_count": 6,
   "metadata": {
    "collapsed": false
   },
   "outputs": [
    {
     "name": "stdout",
     "output_type": "stream",
     "text": [
      "[0]\teval-rmse:6.16047\teval-mae:0.73352\teval-mape:0.35244\ttrain-rmse:2.10190\ttrain-mae:0.53045\ttrain-mape:0.34255\n"
     ]
    },
    {
     "name": "stdout",
     "output_type": "stream",
     "text": [
      "Multiple eval metrics have been passed: 'train-mape' will be used for early stopping.\n",
      "\n"
     ]
    },
    {
     "name": "stdout",
     "output_type": "stream",
     "text": [
      "Will train until train-mape hasn't improved in 50 rounds.\n"
     ]
    },
    {
     "name": "stdout",
     "output_type": "stream",
     "text": [
      "[1]\teval-rmse:6.13974\teval-mae:0.59223\teval-mape:0.22844\ttrain-rmse:2.00562\ttrain-mae:0.38804\ttrain-mape:0.21542\n"
     ]
    },
    {
     "name": "stdout",
     "output_type": "stream",
     "text": [
      "[2]\teval-rmse:6.12840\teval-mae:0.51231\teval-mape:0.15876\ttrain-rmse:1.95522\ttrain-mae:0.30740\ttrain-mape:0.14449\n"
     ]
    },
    {
     "name": "stdout",
     "output_type": "stream",
     "text": [
      "[3]\teval-rmse:6.12320\teval-mae:0.48056\teval-mape:0.13191\ttrain-rmse:1.93404\ttrain-mae:0.28108\ttrain-mape:0.12398\n"
     ]
    },
    {
     "name": "stdout",
     "output_type": "stream",
     "text": [
      "[4]\teval-rmse:6.11833\teval-mae:0.48254\teval-mape:0.13832\ttrain-rmse:1.91555\ttrain-mae:0.28584\ttrain-mape:0.13323\n"
     ]
    },
    {
     "name": "stdout",
     "output_type": "stream",
     "text": [
      "[5]\teval-rmse:6.11219\teval-mae:0.49837\teval-mape:0.15834\ttrain-rmse:1.89745\ttrain-mae:0.29842\ttrain-mape:0.14882\n"
     ]
    },
    {
     "name": "stdout",
     "output_type": "stream",
     "text": [
      "[6]\teval-rmse:6.10132\teval-mae:0.50982\teval-mape:0.17547\ttrain-rmse:1.88046\ttrain-mae:0.31258\ttrain-mape:0.16604\n"
     ]
    },
    {
     "name": "stdout",
     "output_type": "stream",
     "text": [
      "[7]\teval-rmse:6.09198\teval-mae:0.50289\teval-mape:0.17164\ttrain-rmse:1.87220\ttrain-mae:0.32465\ttrain-mape:0.17969\n"
     ]
    },
    {
     "name": "stdout",
     "output_type": "stream",
     "text": [
      "[8]\teval-rmse:6.09361\teval-mae:0.51051\teval-mape:0.18063\ttrain-rmse:1.85198\ttrain-mae:0.33233\ttrain-mape:0.18891\n"
     ]
    },
    {
     "name": "stdout",
     "output_type": "stream",
     "text": [
      "[9]\teval-rmse:6.08974\teval-mae:0.51251\teval-mape:0.18503\ttrain-rmse:1.84694\ttrain-mae:0.33765\ttrain-mape:0.19499\n"
     ]
    },
    {
     "name": "stdout",
     "output_type": "stream",
     "text": [
      "[10]\teval-rmse:6.08747\teval-mae:0.51748\teval-mape:0.19134\ttrain-rmse:1.84153\ttrain-mae:0.34109\ttrain-mape:0.19928\n"
     ]
    },
    {
     "name": "stdout",
     "output_type": "stream",
     "text": [
      "[11]\teval-rmse:6.08735\teval-mae:0.50999\teval-mape:0.18357\ttrain-rmse:1.83778\ttrain-mae:0.34416\ttrain-mape:0.20248\n"
     ]
    },
    {
     "name": "stdout",
     "output_type": "stream",
     "text": [
      "[12]\teval-rmse:6.08709\teval-mae:0.51094\teval-mape:0.18471\ttrain-rmse:1.83453\ttrain-mae:0.34503\ttrain-mape:0.20401\n"
     ]
    },
    {
     "name": "stdout",
     "output_type": "stream",
     "text": [
      "[13]\teval-rmse:6.08412\teval-mae:0.51165\teval-mape:0.18663\ttrain-rmse:1.82987\ttrain-mae:0.34551\ttrain-mape:0.20505\n"
     ]
    },
    {
     "name": "stdout",
     "output_type": "stream",
     "text": [
      "[14]\teval-rmse:6.08328\teval-mae:0.50471\teval-mape:0.18017\ttrain-rmse:1.82638\ttrain-mae:0.34580\ttrain-mape:0.20576\n"
     ]
    },
    {
     "name": "stdout",
     "output_type": "stream",
     "text": [
      "[15]\teval-rmse:6.08263\teval-mae:0.50427\teval-mape:0.18099\ttrain-rmse:1.82385\ttrain-mae:0.34574\ttrain-mape:0.20610\n"
     ]
    },
    {
     "name": "stdout",
     "output_type": "stream",
     "text": [
      "[16]\teval-rmse:6.08173\teval-mae:0.50445\teval-mape:0.18137\ttrain-rmse:1.81345\ttrain-mae:0.34535\ttrain-mape:0.20608\n"
     ]
    },
    {
     "name": "stdout",
     "output_type": "stream",
     "text": [
      "[17]\teval-rmse:6.08119\teval-mae:0.50234\teval-mape:0.17926\ttrain-rmse:1.80966\ttrain-mae:0.34363\ttrain-mape:0.20499\n"
     ]
    },
    {
     "name": "stdout",
     "output_type": "stream",
     "text": [
      "[18]\teval-rmse:6.08223\teval-mae:0.50253\teval-mape:0.17885\ttrain-rmse:1.80758\ttrain-mae:0.34317\ttrain-mape:0.20484\n"
     ]
    },
    {
     "name": "stdout",
     "output_type": "stream",
     "text": [
      "[19]\teval-rmse:6.08256\teval-mae:0.50230\teval-mape:0.17836\ttrain-rmse:1.80402\ttrain-mae:0.34221\ttrain-mape:0.20434\n"
     ]
    },
    {
     "name": "stdout",
     "output_type": "stream",
     "text": [
      "[20]\teval-rmse:6.08159\teval-mae:0.50222\teval-mape:0.17869\ttrain-rmse:1.79762\ttrain-mae:0.34174\ttrain-mape:0.20406\n"
     ]
    },
    {
     "name": "stdout",
     "output_type": "stream",
     "text": [
      "[21]\teval-rmse:6.08161\teval-mae:0.50180\teval-mape:0.17815\ttrain-rmse:1.79293\ttrain-mae:0.34025\ttrain-mape:0.20312\n"
     ]
    },
    {
     "name": "stdout",
     "output_type": "stream",
     "text": [
      "[22]\teval-rmse:6.08025\teval-mae:0.50321\teval-mape:0.18005\ttrain-rmse:1.78859\ttrain-mae:0.33974\ttrain-mape:0.20280\n"
     ]
    },
    {
     "name": "stdout",
     "output_type": "stream",
     "text": [
      "[23]\teval-rmse:6.08194\teval-mae:0.50153\teval-mape:0.17849\ttrain-rmse:1.77513\ttrain-mae:0.33885\ttrain-mape:0.20229\n"
     ]
    },
    {
     "name": "stdout",
     "output_type": "stream",
     "text": [
      "[24]\teval-rmse:6.08196\teval-mae:0.50166\teval-mape:0.17866\ttrain-rmse:1.77480\ttrain-mae:0.33851\ttrain-mape:0.20207\n"
     ]
    },
    {
     "name": "stdout",
     "output_type": "stream",
     "text": [
      "[25]\teval-rmse:6.08200\teval-mae:0.49870\teval-mape:0.17526\ttrain-rmse:1.77134\ttrain-mae:0.33773\ttrain-mape:0.20150\n"
     ]
    },
    {
     "name": "stdout",
     "output_type": "stream",
     "text": [
      "[26]\teval-rmse:6.08172\teval-mae:0.49726\teval-mape:0.17400\ttrain-rmse:1.76908\ttrain-mae:0.33703\ttrain-mape:0.20106\n"
     ]
    },
    {
     "name": "stdout",
     "output_type": "stream",
     "text": [
      "[27]\teval-rmse:6.08203\teval-mae:0.49716\teval-mape:0.17360\ttrain-rmse:1.76739\ttrain-mae:0.33595\ttrain-mape:0.20034\n"
     ]
    },
    {
     "name": "stdout",
     "output_type": "stream",
     "text": [
      "[28]\teval-rmse:6.08268\teval-mae:0.49784\teval-mape:0.17440\ttrain-rmse:1.76576\ttrain-mae:0.33559\ttrain-mape:0.20011\n"
     ]
    },
    {
     "name": "stdout",
     "output_type": "stream",
     "text": [
      "[29]\teval-rmse:6.08173\teval-mae:0.49683\teval-mape:0.17417\ttrain-rmse:1.75701\ttrain-mae:0.33481\ttrain-mape:0.19969\n"
     ]
    },
    {
     "name": "stdout",
     "output_type": "stream",
     "text": [
      "[30]\teval-rmse:6.08171\teval-mae:0.49671\teval-mape:0.17414\ttrain-rmse:1.75654\ttrain-mae:0.33445\ttrain-mape:0.19948\n"
     ]
    },
    {
     "name": "stdout",
     "output_type": "stream",
     "text": [
      "[31]\teval-rmse:6.08171\teval-mae:0.49832\teval-mape:0.17575\ttrain-rmse:1.75130\ttrain-mae:0.33408\ttrain-mape:0.19929\n"
     ]
    },
    {
     "name": "stdout",
     "output_type": "stream",
     "text": [
      "[32]\teval-rmse:6.08277\teval-mae:0.49936\teval-mape:0.17640\ttrain-rmse:1.74560\ttrain-mae:0.33357\ttrain-mape:0.19898\n"
     ]
    },
    {
     "name": "stdout",
     "output_type": "stream",
     "text": [
      "[33]\teval-rmse:6.08267\teval-mae:0.50009\teval-mape:0.17736\ttrain-rmse:1.74227\ttrain-mae:0.33339\ttrain-mape:0.19894\n"
     ]
    },
    {
     "name": "stdout",
     "output_type": "stream",
     "text": [
      "[34]\teval-rmse:6.08265\teval-mae:0.49986\teval-mape:0.17714\ttrain-rmse:1.74105\ttrain-mae:0.33306\ttrain-mape:0.19872\n"
     ]
    },
    {
     "name": "stdout",
     "output_type": "stream",
     "text": [
      "[35]\teval-rmse:6.08251\teval-mae:0.50106\teval-mape:0.17836\ttrain-rmse:1.74042\ttrain-mae:0.33309\ttrain-mape:0.19881\n"
     ]
    },
    {
     "name": "stdout",
     "output_type": "stream",
     "text": [
      "[36]\teval-rmse:6.07912\teval-mae:0.50088\teval-mape:0.17855\ttrain-rmse:1.73770\ttrain-mae:0.33251\ttrain-mape:0.19840\n"
     ]
    },
    {
     "name": "stdout",
     "output_type": "stream",
     "text": [
      "[37]\teval-rmse:6.07948\teval-mae:0.50179\teval-mape:0.17976\ttrain-rmse:1.73564\ttrain-mae:0.33137\ttrain-mape:0.19773\n"
     ]
    },
    {
     "name": "stdout",
     "output_type": "stream",
     "text": [
      "[38]\teval-rmse:6.07941\teval-mae:0.50167\teval-mape:0.17965\ttrain-rmse:1.73501\ttrain-mae:0.33140\ttrain-mape:0.19781\n"
     ]
    },
    {
     "name": "stdout",
     "output_type": "stream",
     "text": [
      "[39]\teval-rmse:6.07934\teval-mae:0.50191\teval-mape:0.18009\ttrain-rmse:1.73456\ttrain-mae:0.33105\ttrain-mape:0.19762\n"
     ]
    },
    {
     "name": "stdout",
     "output_type": "stream",
     "text": [
      "[40]\teval-rmse:6.07930\teval-mae:0.50292\teval-mape:0.18124\ttrain-rmse:1.73336\ttrain-mae:0.33090\ttrain-mape:0.19758\n"
     ]
    },
    {
     "name": "stdout",
     "output_type": "stream",
     "text": [
      "[41]\teval-rmse:6.07941\teval-mae:0.50227\teval-mape:0.18051\ttrain-rmse:1.73137\ttrain-mae:0.33087\ttrain-mape:0.19758\n"
     ]
    },
    {
     "name": "stdout",
     "output_type": "stream",
     "text": [
      "[42]\teval-rmse:6.07968\teval-mae:0.50251\teval-mape:0.18051\ttrain-rmse:1.72979\ttrain-mae:0.33031\ttrain-mape:0.19722\n"
     ]
    },
    {
     "name": "stdout",
     "output_type": "stream",
     "text": [
      "[43]\teval-rmse:6.07964\teval-mae:0.50325\teval-mape:0.18157\ttrain-rmse:1.72603\ttrain-mae:0.32952\ttrain-mape:0.19670\n"
     ]
    },
    {
     "name": "stdout",
     "output_type": "stream",
     "text": [
      "[44]\teval-rmse:6.07945\teval-mae:0.50250\teval-mape:0.18078\ttrain-rmse:1.72387\ttrain-mae:0.32922\ttrain-mape:0.19647\n"
     ]
    },
    {
     "name": "stdout",
     "output_type": "stream",
     "text": [
      "[45]\teval-rmse:6.07936\teval-mae:0.50194\teval-mape:0.18008\ttrain-rmse:1.71700\ttrain-mae:0.32889\ttrain-mape:0.19627\n"
     ]
    },
    {
     "name": "stdout",
     "output_type": "stream",
     "text": [
      "[46]\teval-rmse:6.07877\teval-mae:0.50148\teval-mape:0.18017\ttrain-rmse:1.71466\ttrain-mae:0.32852\ttrain-mape:0.19608\n"
     ]
    },
    {
     "name": "stdout",
     "output_type": "stream",
     "text": [
      "[47]\teval-rmse:6.07875\teval-mae:0.50148\teval-mape:0.18013\ttrain-rmse:1.71269\ttrain-mae:0.32827\ttrain-mape:0.19593\n"
     ]
    },
    {
     "name": "stdout",
     "output_type": "stream",
     "text": [
      "[48]\teval-rmse:6.07875\teval-mae:0.50169\teval-mape:0.18038\ttrain-rmse:1.71251\ttrain-mae:0.32822\ttrain-mape:0.19593\n"
     ]
    },
    {
     "name": "stdout",
     "output_type": "stream",
     "text": [
      "[49]\teval-rmse:6.07875\teval-mae:0.50172\teval-mape:0.18043\ttrain-rmse:1.71178\ttrain-mae:0.32791\ttrain-mape:0.19575\n"
     ]
    },
    {
     "name": "stdout",
     "output_type": "stream",
     "text": [
      "[50]\teval-rmse:6.06046\teval-mae:0.49849\teval-mape:0.17888\ttrain-rmse:1.70781\ttrain-mae:0.32720\ttrain-mape:0.19527\n"
     ]
    },
    {
     "name": "stdout",
     "output_type": "stream",
     "text": [
      "[51]\teval-rmse:6.06072\teval-mae:0.49947\teval-mape:0.17972\ttrain-rmse:1.70378\ttrain-mae:0.32625\ttrain-mape:0.19471\n"
     ]
    },
    {
     "name": "stdout",
     "output_type": "stream",
     "text": [
      "[52]\teval-rmse:6.06092\teval-mae:0.49967\teval-mape:0.17992\ttrain-rmse:1.69780\ttrain-mae:0.32592\ttrain-mape:0.19454\n"
     ]
    },
    {
     "name": "stdout",
     "output_type": "stream",
     "text": [
      "[53]\teval-rmse:6.06090\teval-mae:0.49986\teval-mape:0.18019\ttrain-rmse:1.69676\ttrain-mae:0.32561\ttrain-mape:0.19443\n"
     ]
    },
    {
     "name": "stdout",
     "output_type": "stream",
     "text": [
      "Stopping. Best iteration:\n",
      "[3]\teval-rmse:6.12320\teval-mae:0.48056\teval-mape:0.13191\ttrain-rmse:1.93404\ttrain-mae:0.28108\ttrain-mape:0.12398\n",
      "\n"
     ]
    }
   ],
   "source": [
    "# baseline xgboost, model knows nothing about time series except for date_block_num categorical variable\n",
    "\n",
    "params = {}\n",
    "params['eval_metric'] = ['rmse', 'mae', 'mape']\n",
    "params['nthread'] = 4\n",
    "\n",
    "# track performance on this data\n",
    "evallist = [(dvalidation, 'eval'), (dtrain, 'train')]\n",
    "\n",
    "num_boost_round = 100 # how many trees\n",
    "early_stopping_rounds = 50\n",
    "\n",
    "model = xgb.train(params=params,\n",
    "                  dtrain=dtrain,\n",
    "                  num_boost_round=num_boost_round,\n",
    "                  evals=evallist,\n",
    "                  early_stopping_rounds=early_stopping_rounds)\n",
    "\n"
   ]
  },
  {
   "cell_type": "code",
   "execution_count": 15,
   "metadata": {
    "collapsed": false
   },
   "outputs": [
    {
     "data": {
      "text/plain": [
       "<AxesSubplot:title={'center':'Feature importance'}, xlabel='F score', ylabel='Features'>"
      ]
     },
     "execution_count": 15,
     "metadata": {},
     "output_type": "execute_result"
    },
    {
     "data": {
      "image/png": "[encoded data removed]",
      "text/plain": [
       "<Figure size 432x288 with 1 Axes>"
      ]
     },
     "metadata": {
      "needs_background": "light"
     },
     "output_type": "display_data"
    }
   ],
   "source": [
    "xgb.plot_importance(model)"
   ]
  },
  {
   "cell_type": "code",
   "execution_count": 17,
   "metadata": {
    "collapsed": false
   },
   "outputs": [],
   "source": [
    "# add item_categories and more time features\n",
    "\n",
    "def add_features(df):\n",
    "    # get items csv and use id and categories columns as key to add item categories to dataframe\n",
    "    items = pd.read_csv(\"items.csv\")\n",
    "    df['item_category_id'] = df['item_id'].map(items.set_index('item_id')['item_category_id'])\n",
    "\n",
    "    # add some time features, add the data as a column to do this, remove date at the end\n",
    "    df['date'] = df.index\n",
    "    df['dayofweek'] = df['date'].dt.dayofweek\n",
    "    df['month'] = df['date'].dt.month\n",
    "    df['year'] = df['date'].dt.year\n",
    "    df['dayofyear'] = df['date'].dt.dayofyear\n",
    "    df['dayofmonth'] = df['date'].dt.day\n",
    "\n",
    "    df.drop(columns='date', inplace=True)\n",
    "\n",
    "    return df\n",
    "\n",
    "# only using 2015's data seems to improve things dramatically\n",
    "dtrain = xgb_data_prepare(train[train.index >= '2015-01-01'], add_features=add_features)\n",
    "dvalidation = xgb_data_prepare(validation, add_features=add_features)\n",
    "dtest = xgb_data_prepare(test, add_features=add_features)\n"
   ]
  },
  {
   "cell_type": "code",
   "execution_count": 65,
   "metadata": {
    "collapsed": false
   },
   "outputs": [
    {
     "name": "stdout",
     "output_type": "stream",
     "text": [
      "[0]\teval-rmse:6.18523\teval-mae:0.87734\teval-mape:0.47828\ttrain-rmse:2.88760\ttrain-mae:0.65814\ttrain-mape:0.46676\n"
     ]
    },
    {
     "name": "stdout",
     "output_type": "stream",
     "text": [
      "Multiple eval metrics have been passed: 'train-mape' will be used for early stopping.\n",
      "\n"
     ]
    },
    {
     "name": "stdout",
     "output_type": "stream",
     "text": [
      "Will train until train-mape hasn't improved in 10 rounds.\n"
     ]
    },
    {
     "name": "stdout",
     "output_type": "stream",
     "text": [
      "[1]\teval-rmse:6.16835\teval-mae:0.81307\teval-mape:0.42327\ttrain-rmse:2.80752\ttrain-mae:0.59507\ttrain-mape:0.41085\n"
     ]
    },
    {
     "name": "stdout",
     "output_type": "stream",
     "text": [
      "[2]\teval-rmse:6.15616\teval-mae:0.75566\teval-mape:0.37379\ttrain-rmse:2.75005\ttrain-mae:0.54105\ttrain-mape:0.36364\n"
     ]
    },
    {
     "name": "stdout",
     "output_type": "stream",
     "text": [
      "[3]\teval-rmse:6.14438\teval-mae:0.70901\teval-mape:0.33448\ttrain-rmse:2.70199\ttrain-mae:0.49628\ttrain-mape:0.32435\n"
     ]
    },
    {
     "name": "stdout",
     "output_type": "stream",
     "text": [
      "[4]\teval-rmse:6.13398\teval-mae:0.66970\teval-mape:0.30161\ttrain-rmse:2.65344\ttrain-mae:0.45628\ttrain-mape:0.28976\n"
     ]
    },
    {
     "name": "stdout",
     "output_type": "stream",
     "text": [
      "[5]\teval-rmse:6.12791\teval-mae:0.63482\teval-mape:0.27195\ttrain-rmse:2.61049\ttrain-mae:0.42153\ttrain-mape:0.25955\n"
     ]
    },
    {
     "name": "stdout",
     "output_type": "stream",
     "text": [
      "[6]\teval-rmse:6.12289\teval-mae:0.60590\teval-mape:0.24771\ttrain-rmse:2.57318\ttrain-mae:0.39211\ttrain-mape:0.23360\n"
     ]
    },
    {
     "name": "stdout",
     "output_type": "stream",
     "text": [
      "[7]\teval-rmse:6.11602\teval-mae:0.58034\teval-mape:0.22616\ttrain-rmse:2.53754\ttrain-mae:0.36565\ttrain-mape:0.21116\n"
     ]
    },
    {
     "name": "stdout",
     "output_type": "stream",
     "text": [
      "[8]\teval-rmse:6.11190\teval-mae:0.55889\teval-mape:0.20824\ttrain-rmse:2.50522\ttrain-mae:0.34178\ttrain-mape:0.19049\n"
     ]
    },
    {
     "name": "stdout",
     "output_type": "stream",
     "text": [
      "[9]\teval-rmse:6.10536\teval-mae:0.54135\teval-mape:0.19437\ttrain-rmse:2.47048\ttrain-mae:0.32118\ttrain-mape:0.17235\n"
     ]
    },
    {
     "name": "stdout",
     "output_type": "stream",
     "text": [
      "[10]\teval-rmse:6.10279\teval-mae:0.52539\teval-mape:0.18067\ttrain-rmse:2.44478\ttrain-mae:0.30538\ttrain-mape:0.15895\n"
     ]
    },
    {
     "name": "stdout",
     "output_type": "stream",
     "text": [
      "[11]\teval-rmse:6.10028\teval-mae:0.51131\teval-mape:0.16892\ttrain-rmse:2.42712\ttrain-mae:0.29085\ttrain-mape:0.14625\n"
     ]
    },
    {
     "name": "stdout",
     "output_type": "stream",
     "text": [
      "[12]\teval-rmse:6.09452\teval-mae:0.50060\teval-mape:0.16083\ttrain-rmse:2.40118\ttrain-mae:0.27808\ttrain-mape:0.13539\n"
     ]
    },
    {
     "name": "stdout",
     "output_type": "stream",
     "text": [
      "[13]\teval-rmse:6.08815\teval-mae:0.48812\teval-mape:0.15085\ttrain-rmse:2.37502\ttrain-mae:0.26866\ttrain-mape:0.12754\n"
     ]
    },
    {
     "name": "stdout",
     "output_type": "stream",
     "text": [
      "[14]\teval-rmse:6.08702\teval-mae:0.48010\teval-mape:0.14387\ttrain-rmse:2.32550\ttrain-mae:0.26227\ttrain-mape:0.12295\n"
     ]
    },
    {
     "name": "stdout",
     "output_type": "stream",
     "text": [
      "[15]\teval-rmse:6.08483\teval-mae:0.47381\teval-mape:0.13954\ttrain-rmse:2.31145\ttrain-mae:0.25869\ttrain-mape:0.12078\n"
     ]
    },
    {
     "name": "stdout",
     "output_type": "stream",
     "text": [
      "[16]\teval-rmse:6.08407\teval-mae:0.46838\teval-mape:0.13483\ttrain-rmse:2.28053\ttrain-mae:0.25539\ttrain-mape:0.11887\n"
     ]
    },
    {
     "name": "stdout",
     "output_type": "stream",
     "text": [
      "[17]\teval-rmse:6.08321\teval-mae:0.46502\teval-mape:0.13245\ttrain-rmse:2.26903\ttrain-mae:0.25533\ttrain-mape:0.11987\n"
     ]
    },
    {
     "name": "stdout",
     "output_type": "stream",
     "text": [
      "[18]\teval-rmse:6.08201\teval-mae:0.46457\teval-mape:0.13308\ttrain-rmse:2.23083\ttrain-mae:0.25586\ttrain-mape:0.12155\n"
     ]
    },
    {
     "name": "stdout",
     "output_type": "stream",
     "text": [
      "[19]\teval-rmse:6.08109\teval-mae:0.46707\teval-mape:0.13634\ttrain-rmse:2.21484\ttrain-mae:0.25795\ttrain-mape:0.12457\n"
     ]
    },
    {
     "name": "stdout",
     "output_type": "stream",
     "text": [
      "[20]\teval-rmse:6.08037\teval-mae:0.46855\teval-mape:0.13864\ttrain-rmse:2.20060\ttrain-mae:0.25958\ttrain-mape:0.12695\n"
     ]
    },
    {
     "name": "stdout",
     "output_type": "stream",
     "text": [
      "[21]\teval-rmse:6.07944\teval-mae:0.46830\teval-mape:0.13926\ttrain-rmse:2.15361\ttrain-mae:0.25996\ttrain-mape:0.12919\n"
     ]
    },
    {
     "name": "stdout",
     "output_type": "stream",
     "text": [
      "[22]\teval-rmse:6.07840\teval-mae:0.47050\teval-mape:0.14227\ttrain-rmse:2.14651\ttrain-mae:0.26306\ttrain-mape:0.13276\n"
     ]
    },
    {
     "name": "stdout",
     "output_type": "stream",
     "text": [
      "[23]\teval-rmse:6.07750\teval-mae:0.47090\teval-mape:0.14349\ttrain-rmse:2.10838\ttrain-mae:0.26484\ttrain-mape:0.13592\n"
     ]
    },
    {
     "name": "stdout",
     "output_type": "stream",
     "text": [
      "[24]\teval-rmse:6.07655\teval-mae:0.47344\teval-mape:0.14670\ttrain-rmse:2.10012\ttrain-mae:0.26824\ttrain-mape:0.13994\n"
     ]
    },
    {
     "name": "stdout",
     "output_type": "stream",
     "text": [
      "[25]\teval-rmse:6.07079\teval-mae:0.47526\teval-mape:0.14950\ttrain-rmse:2.09193\ttrain-mae:0.27050\ttrain-mape:0.14309\n"
     ]
    },
    {
     "name": "stdout",
     "output_type": "stream",
     "text": [
      "[26]\teval-rmse:6.07052\teval-mae:0.47775\teval-mape:0.15231\ttrain-rmse:2.08897\ttrain-mae:0.27299\ttrain-mape:0.14624\n"
     ]
    },
    {
     "name": "stdout",
     "output_type": "stream",
     "text": [
      "Stopping. Best iteration:\n",
      "[16]\teval-rmse:6.08407\teval-mae:0.46838\teval-mape:0.13483\ttrain-rmse:2.28053\ttrain-mae:0.25539\ttrain-mape:0.11887\n",
      "\n"
     ]
    }
   ],
   "source": [
    "# xgboost with some feature engineering\n",
    "\n",
    "params = {}\n",
    "params['eval_metric'] = ['rmse', 'mae', 'mape']\n",
    "params['nthread'] = 4\n",
    "params['eta'] = 0.1 # learning rate, default = 0.3\n",
    "\n",
    "# track performance on this data\n",
    "evallist = [(dvalidation, 'eval'), (dtrain, 'train')]\n",
    "\n",
    "num_boost_round = 100 # how many trees\n",
    "early_stopping_rounds = 10\n",
    "\n",
    "model = xgb.train(params=params,\n",
    "                  dtrain=dtrain,\n",
    "                  num_boost_round=num_boost_round,\n",
    "                  evals=evallist,\n",
    "                  early_stopping_rounds=early_stopping_rounds)"
   ]
  },
  {
   "cell_type": "code",
   "execution_count": 51,
   "metadata": {
    "collapsed": false
   },
   "outputs": [
    {
     "data": {
      "text/plain": [
       "<AxesSubplot:title={'center':'Feature importance'}, xlabel='F score', ylabel='Features'>"
      ]
     },
     "execution_count": 51,
     "metadata": {},
     "output_type": "execute_result"
    },
    {
     "data": {
      "image/png": "[encoded data removed]",
      "text/plain": [
       "<Figure size 432x288 with 1 Axes>"
      ]
     },
     "metadata": {
      "needs_background": "light"
     },
     "output_type": "display_data"
    }
   ],
   "source": [
    "xgb.plot_importance(model)"
   ]
  },
  {
   "cell_type": "code",
   "execution_count": 77,
   "metadata": {
    "collapsed": false
   },
   "outputs": [
    {
     "data": {
      "text/html": [
       "<div>\n",
       "<style scoped>\n",
       "    .dataframe tbody tr th:only-of-type {\n",
       "        vertical-align: middle;\n",
       "    }\n",
       "\n",
       "    .dataframe tbody tr th {\n",
       "        vertical-align: top;\n",
       "    }\n",
       "\n",
       "    .dataframe thead th {\n",
       "        text-align: right;\n",
       "    }\n",
       "</style>\n",
       "<table border=\"1\" class=\"dataframe\">\n",
       "  <thead>\n",
       "    <tr style=\"text-align: right;\">\n",
       "      <th></th>\n",
       "      <th>date_block_num</th>\n",
       "      <th>shop_id</th>\n",
       "      <th>item_id</th>\n",
       "      <th>item_price</th>\n",
       "      <th>item_cnt_day</th>\n",
       "      <th>item_category_id</th>\n",
       "      <th>dayofweek</th>\n",
       "      <th>month</th>\n",
       "      <th>year</th>\n",
       "      <th>dayofyear</th>\n",
       "      <th>dayofmonth</th>\n",
       "    </tr>\n",
       "    <tr>\n",
       "      <th>date</th>\n",
       "      <th></th>\n",
       "      <th></th>\n",
       "      <th></th>\n",
       "      <th></th>\n",
       "      <th></th>\n",
       "      <th></th>\n",
       "      <th></th>\n",
       "      <th></th>\n",
       "      <th></th>\n",
       "      <th></th>\n",
       "      <th></th>\n",
       "    </tr>\n",
       "  </thead>\n",
       "  <tbody>\n",
       "    <tr>\n",
       "      <th>2013-01-01</th>\n",
       "      <td>0</td>\n",
       "      <td>15</td>\n",
       "      <td>2822</td>\n",
       "      <td>399.00</td>\n",
       "      <td>1.0</td>\n",
       "      <td>30</td>\n",
       "      <td>1</td>\n",
       "      <td>1</td>\n",
       "      <td>2013</td>\n",
       "      <td>1</td>\n",
       "      <td>1</td>\n",
       "    </tr>\n",
       "    <tr>\n",
       "      <th>2013-01-01</th>\n",
       "      <td>0</td>\n",
       "      <td>54</td>\n",
       "      <td>6595</td>\n",
       "      <td>549.00</td>\n",
       "      <td>1.0</td>\n",
       "      <td>25</td>\n",
       "      <td>1</td>\n",
       "      <td>1</td>\n",
       "      <td>2013</td>\n",
       "      <td>1</td>\n",
       "      <td>1</td>\n",
       "    </tr>\n",
       "    <tr>\n",
       "      <th>2013-01-01</th>\n",
       "      <td>0</td>\n",
       "      <td>7</td>\n",
       "      <td>16146</td>\n",
       "      <td>1399.00</td>\n",
       "      <td>1.0</td>\n",
       "      <td>64</td>\n",
       "      <td>1</td>\n",
       "      <td>1</td>\n",
       "      <td>2013</td>\n",
       "      <td>1</td>\n",
       "      <td>1</td>\n",
       "    </tr>\n",
       "    <tr>\n",
       "      <th>2013-01-01</th>\n",
       "      <td>0</td>\n",
       "      <td>7</td>\n",
       "      <td>16170</td>\n",
       "      <td>1999.00</td>\n",
       "      <td>1.0</td>\n",
       "      <td>64</td>\n",
       "      <td>1</td>\n",
       "      <td>1</td>\n",
       "      <td>2013</td>\n",
       "      <td>1</td>\n",
       "      <td>1</td>\n",
       "    </tr>\n",
       "    <tr>\n",
       "      <th>2013-01-01</th>\n",
       "      <td>0</td>\n",
       "      <td>28</td>\n",
       "      <td>6495</td>\n",
       "      <td>699.00</td>\n",
       "      <td>2.0</td>\n",
       "      <td>28</td>\n",
       "      <td>1</td>\n",
       "      <td>1</td>\n",
       "      <td>2013</td>\n",
       "      <td>1</td>\n",
       "      <td>1</td>\n",
       "    </tr>\n",
       "    <tr>\n",
       "      <th>...</th>\n",
       "      <td>...</td>\n",
       "      <td>...</td>\n",
       "      <td>...</td>\n",
       "      <td>...</td>\n",
       "      <td>...</td>\n",
       "      <td>...</td>\n",
       "      <td>...</td>\n",
       "      <td>...</td>\n",
       "      <td>...</td>\n",
       "      <td>...</td>\n",
       "      <td>...</td>\n",
       "    </tr>\n",
       "    <tr>\n",
       "      <th>2015-08-31</th>\n",
       "      <td>31</td>\n",
       "      <td>31</td>\n",
       "      <td>13720</td>\n",
       "      <td>229.00</td>\n",
       "      <td>1.0</td>\n",
       "      <td>69</td>\n",
       "      <td>0</td>\n",
       "      <td>8</td>\n",
       "      <td>2015</td>\n",
       "      <td>243</td>\n",
       "      <td>31</td>\n",
       "    </tr>\n",
       "    <tr>\n",
       "      <th>2015-08-31</th>\n",
       "      <td>31</td>\n",
       "      <td>39</td>\n",
       "      <td>20949</td>\n",
       "      <td>5.00</td>\n",
       "      <td>2.0</td>\n",
       "      <td>71</td>\n",
       "      <td>0</td>\n",
       "      <td>8</td>\n",
       "      <td>2015</td>\n",
       "      <td>243</td>\n",
       "      <td>31</td>\n",
       "    </tr>\n",
       "    <tr>\n",
       "      <th>2015-08-31</th>\n",
       "      <td>31</td>\n",
       "      <td>31</td>\n",
       "      <td>16156</td>\n",
       "      <td>1299.00</td>\n",
       "      <td>1.0</td>\n",
       "      <td>64</td>\n",
       "      <td>0</td>\n",
       "      <td>8</td>\n",
       "      <td>2015</td>\n",
       "      <td>243</td>\n",
       "      <td>31</td>\n",
       "    </tr>\n",
       "    <tr>\n",
       "      <th>2015-08-31</th>\n",
       "      <td>31</td>\n",
       "      <td>41</td>\n",
       "      <td>5999</td>\n",
       "      <td>499.00</td>\n",
       "      <td>1.0</td>\n",
       "      <td>55</td>\n",
       "      <td>0</td>\n",
       "      <td>8</td>\n",
       "      <td>2015</td>\n",
       "      <td>243</td>\n",
       "      <td>31</td>\n",
       "    </tr>\n",
       "    <tr>\n",
       "      <th>2015-08-31</th>\n",
       "      <td>31</td>\n",
       "      <td>38</td>\n",
       "      <td>1540</td>\n",
       "      <td>1052.13</td>\n",
       "      <td>1.0</td>\n",
       "      <td>20</td>\n",
       "      <td>0</td>\n",
       "      <td>8</td>\n",
       "      <td>2015</td>\n",
       "      <td>243</td>\n",
       "      <td>31</td>\n",
       "    </tr>\n",
       "  </tbody>\n",
       "</table>\n",
       "<p>2831739 rows × 11 columns</p>\n",
       "</div>"
      ],
      "text/plain": [
       "            date_block_num  shop_id  item_id  item_price  item_cnt_day  \\\n",
       "date                                                                     \n",
       "2013-01-01               0       15     2822      399.00           1.0   \n",
       "2013-01-01               0       54     6595      549.00           1.0   \n",
       "2013-01-01               0        7    16146     1399.00           1.0   \n",
       "2013-01-01               0        7    16170     1999.00           1.0   \n",
       "2013-01-01               0       28     6495      699.00           2.0   \n",
       "...                    ...      ...      ...         ...           ...   \n",
       "2015-08-31              31       31    13720      229.00           1.0   \n",
       "2015-08-31              31       39    20949        5.00           2.0   \n",
       "2015-08-31              31       31    16156     1299.00           1.0   \n",
       "2015-08-31              31       41     5999      499.00           1.0   \n",
       "2015-08-31              31       38     1540     1052.13           1.0   \n",
       "\n",
       "            item_category_id  dayofweek  month  year  dayofyear  dayofmonth  \n",
       "date                                                                         \n",
       "2013-01-01                30          1      1  2013          1           1  \n",
       "2013-01-01                25          1      1  2013          1           1  \n",
       "2013-01-01                64          1      1  2013          1           1  \n",
       "2013-01-01                64          1      1  2013          1           1  \n",
       "2013-01-01                28          1      1  2013          1           1  \n",
       "...                      ...        ...    ...   ...        ...         ...  \n",
       "2015-08-31                69          0      8  2015        243          31  \n",
       "2015-08-31                71          0      8  2015        243          31  \n",
       "2015-08-31                64          0      8  2015        243          31  \n",
       "2015-08-31                55          0      8  2015        243          31  \n",
       "2015-08-31                20          0      8  2015        243          31  \n",
       "\n",
       "[2831739 rows x 11 columns]"
      ]
     },
     "execution_count": 77,
     "metadata": {},
     "output_type": "execute_result"
    }
   ],
   "source": [
    "train"
   ]
  },
  {
   "cell_type": "code",
   "execution_count": 85,
   "metadata": {
    "collapsed": false
   },
   "outputs": [
    {
     "data": {
      "text/plain": [
       "<AxesSubplot:xlabel='date'>"
      ]
     },
     "execution_count": 85,
     "metadata": {},
     "output_type": "execute_result"
    },
    {
     "data": {
      "image/png": "[encoded data removed]",
      "text/plain": [
       "<Figure size 1440x360 with 1 Axes>"
      ]
     },
     "metadata": {
      "needs_background": "light"
     },
     "output_type": "display_data"
    }
   ],
   "source": [
    "train.groupby('date').item_cnt_day.mean().plot(figsize=(20, 5))"
   ]
  },
  {
   "cell_type": "code",
   "execution_count": 108,
   "metadata": {
    "collapsed": false
   },
   "outputs": [
    {
     "data": {
      "text/plain": [
       "<AxesSubplot:xlabel='date'>"
      ]
     },
     "execution_count": 108,
     "metadata": {},
     "output_type": "execute_result"
    },
    {
     "data": {
      "image/png": "[encoded data removed]",
      "text/plain": [
       "<Figure size 1440x360 with 1 Axes>"
      ]
     },
     "metadata": {
      "needs_background": "light"
     },
     "output_type": "display_data"
    }
   ],
   "source": [
    "\n",
    "# validation.groupby('date').item_cnt_day.mean().plot(figsize=(20, 5))\n",
    "\n",
    "validation['item_cnt_day'].groupby('date').sum().plot(figsize=(20, 5))\n"
   ]
  },
  {
   "cell_type": "code",
   "execution_count": 10,
   "metadata": {
    "collapsed": false
   },
   "outputs": [
    {
     "data": {
      "text/plain": [
       "<AxesSubplot:xlabel='date'>"
      ]
     },
     "execution_count": 10,
     "metadata": {},
     "output_type": "execute_result"
    },
    {
     "data": {
      "image/png": "[encoded data removed]",
      "text/plain": [
       "<Figure size 1440x360 with 1 Axes>"
      ]
     },
     "metadata": {
      "needs_background": "light"
     },
     "output_type": "display_data"
    }
   ],
   "source": [
    "val_predictions = model.predict(dvalidation)\n",
    "val_predictions\n",
    "# pd.DataFrame(data=val_predictions, index=validation.index, columns=['item_cnt_pred']).groupby('date').sum().plot(figsize=(20, 5))\n",
    "\n",
    "# this isn't so bad! the real surprise is why adding time features doesn't seem to make a difference...\n",
    "val_compare = pd.DataFrame(data=val_predictions, index=validation.index, columns=['item_cnt_pred'])\n",
    "val_compare['item_cnt_day'] = validation['item_cnt_day']\n",
    "val_compare.groupby('date').sum().plot(figsize=(20, 5))"
   ]
  },
  {
   "cell_type": "code",
   "execution_count": 13,
   "metadata": {
    "collapsed": false
   },
   "outputs": [
    {
     "name": "stdout",
     "output_type": "stream",
     "text": [
      "[0]\teval-rmse:6.19300\teval-mae:0.73540\teval-mape:0.35067\ttrain-rmse:2.13341\ttrain-mae:0.52836\ttrain-mape:0.34221\n"
     ]
    },
    {
     "name": "stdout",
     "output_type": "stream",
     "text": [
      "Multiple eval metrics have been passed: 'train-mape' will be used for early stopping.\n",
      "\n"
     ]
    },
    {
     "name": "stdout",
     "output_type": "stream",
     "text": [
      "Will train until train-mape hasn't improved in 50 rounds.\n"
     ]
    },
    {
     "name": "stdout",
     "output_type": "stream",
     "text": [
      "[1]\teval-rmse:6.17085\teval-mae:0.59276\teval-mape:0.22655\ttrain-rmse:2.02668\ttrain-mae:0.38587\ttrain-mape:0.21750\n"
     ]
    },
    {
     "name": "stdout",
     "output_type": "stream",
     "text": [
      "[2]\teval-rmse:6.15857\teval-mae:0.50689\teval-mape:0.15127\ttrain-rmse:1.97116\ttrain-mae:0.30464\ttrain-mape:0.14477\n"
     ]
    },
    {
     "name": "stdout",
     "output_type": "stream",
     "text": [
      "[3]\teval-rmse:6.14798\teval-mae:0.48194\teval-mape:0.13473\ttrain-rmse:1.93422\ttrain-mae:0.27586\ttrain-mape:0.12250\n"
     ]
    },
    {
     "name": "stdout",
     "output_type": "stream",
     "text": [
      "[4]\teval-rmse:6.13431\teval-mae:0.47762\teval-mape:0.13721\ttrain-rmse:1.90711\ttrain-mae:0.27889\ttrain-mape:0.13008\n"
     ]
    },
    {
     "name": "stdout",
     "output_type": "stream",
     "text": [
      "[5]\teval-rmse:6.12767\teval-mae:0.49242\teval-mape:0.15670\ttrain-rmse:1.89125\ttrain-mae:0.29138\ttrain-mape:0.14607\n"
     ]
    },
    {
     "name": "stdout",
     "output_type": "stream",
     "text": [
      "[6]\teval-rmse:6.12603\teval-mae:0.49442\teval-mape:0.16037\ttrain-rmse:1.87738\ttrain-mae:0.30672\ttrain-mape:0.16289\n"
     ]
    },
    {
     "name": "stdout",
     "output_type": "stream",
     "text": [
      "[7]\teval-rmse:6.12278\teval-mae:0.50448\teval-mape:0.17231\ttrain-rmse:1.86564\ttrain-mae:0.31761\ttrain-mape:0.17573\n"
     ]
    },
    {
     "name": "stdout",
     "output_type": "stream",
     "text": [
      "[8]\teval-rmse:6.12177\teval-mae:0.51190\teval-mape:0.18110\ttrain-rmse:1.85505\ttrain-mae:0.32547\ttrain-mape:0.18482\n"
     ]
    },
    {
     "name": "stdout",
     "output_type": "stream",
     "text": [
      "[9]\teval-rmse:6.12112\teval-mae:0.51639\teval-mape:0.18628\ttrain-rmse:1.85117\ttrain-mae:0.33106\ttrain-mape:0.19128\n"
     ]
    },
    {
     "name": "stdout",
     "output_type": "stream",
     "text": [
      "[10]\teval-rmse:6.12032\teval-mae:0.50853\teval-mape:0.17832\ttrain-rmse:1.83615\ttrain-mae:0.33442\ttrain-mape:0.19547\n"
     ]
    },
    {
     "name": "stdout",
     "output_type": "stream",
     "text": [
      "[11]\teval-rmse:6.11525\teval-mae:0.50871\teval-mape:0.18002\ttrain-rmse:1.82281\ttrain-mae:0.33586\ttrain-mape:0.19759\n"
     ]
    },
    {
     "name": "stdout",
     "output_type": "stream",
     "text": [
      "[12]\teval-rmse:6.11364\teval-mae:0.51084\teval-mape:0.18259\ttrain-rmse:1.81900\ttrain-mae:0.33733\ttrain-mape:0.19958\n"
     ]
    },
    {
     "name": "stdout",
     "output_type": "stream",
     "text": [
      "[13]\teval-rmse:6.11356\teval-mae:0.51131\teval-mape:0.18326\ttrain-rmse:1.81642\ttrain-mae:0.33769\ttrain-mape:0.20040\n"
     ]
    },
    {
     "name": "stdout",
     "output_type": "stream",
     "text": [
      "[14]\teval-rmse:6.11452\teval-mae:0.50953\teval-mape:0.18168\ttrain-rmse:1.80428\ttrain-mae:0.33723\ttrain-mape:0.20054\n"
     ]
    },
    {
     "name": "stdout",
     "output_type": "stream",
     "text": [
      "[15]\teval-rmse:6.11428\teval-mae:0.50907\teval-mape:0.18158\ttrain-rmse:1.80193\ttrain-mae:0.33632\ttrain-mape:0.20028\n"
     ]
    },
    {
     "name": "stdout",
     "output_type": "stream",
     "text": [
      "[16]\teval-rmse:6.11322\teval-mae:0.50314\teval-mape:0.17571\ttrain-rmse:1.80082\ttrain-mae:0.33658\ttrain-mape:0.20074\n"
     ]
    },
    {
     "name": "stdout",
     "output_type": "stream",
     "text": [
      "[17]\teval-rmse:6.11322\teval-mae:0.50385\teval-mape:0.17646\ttrain-rmse:1.79605\ttrain-mae:0.33679\ttrain-mape:0.20112\n"
     ]
    },
    {
     "name": "stdout",
     "output_type": "stream",
     "text": [
      "[18]\teval-rmse:6.11317\teval-mae:0.50331\teval-mape:0.17594\ttrain-rmse:1.79517\ttrain-mae:0.33625\ttrain-mape:0.20087\n"
     ]
    },
    {
     "name": "stdout",
     "output_type": "stream",
     "text": [
      "[19]\teval-rmse:6.11244\teval-mae:0.50441\teval-mape:0.17734\ttrain-rmse:1.78930\ttrain-mae:0.33575\ttrain-mape:0.20060\n"
     ]
    },
    {
     "name": "stdout",
     "output_type": "stream",
     "text": [
      "[20]\teval-rmse:6.11226\teval-mae:0.50400\teval-mape:0.17721\ttrain-rmse:1.78855\ttrain-mae:0.33504\ttrain-mape:0.20019\n"
     ]
    },
    {
     "name": "stdout",
     "output_type": "stream",
     "text": [
      "[21]\teval-rmse:6.11223\teval-mae:0.50446\teval-mape:0.17772\ttrain-rmse:1.78506\ttrain-mae:0.33501\ttrain-mape:0.20022\n"
     ]
    },
    {
     "name": "stdout",
     "output_type": "stream",
     "text": [
      "[22]\teval-rmse:6.11125\teval-mae:0.50351\teval-mape:0.17719\ttrain-rmse:1.78077\ttrain-mae:0.33433\ttrain-mape:0.19988\n"
     ]
    },
    {
     "name": "stdout",
     "output_type": "stream",
     "text": [
      "[23]\teval-rmse:6.11126\teval-mae:0.50370\teval-mape:0.17739\ttrain-rmse:1.77873\ttrain-mae:0.33434\ttrain-mape:0.19994\n"
     ]
    },
    {
     "name": "stdout",
     "output_type": "stream",
     "text": [
      "[24]\teval-rmse:6.11137\teval-mae:0.50469\teval-mape:0.17845\ttrain-rmse:1.77360\ttrain-mae:0.33328\ttrain-mape:0.19929\n"
     ]
    },
    {
     "name": "stdout",
     "output_type": "stream",
     "text": [
      "[25]\teval-rmse:6.11139\teval-mae:0.50408\teval-mape:0.17778\ttrain-rmse:1.77229\ttrain-mae:0.33219\ttrain-mape:0.19861\n"
     ]
    },
    {
     "name": "stdout",
     "output_type": "stream",
     "text": [
      "[26]\teval-rmse:6.11256\teval-mae:0.50557\teval-mape:0.17899\ttrain-rmse:1.77059\ttrain-mae:0.33181\ttrain-mape:0.19838\n"
     ]
    },
    {
     "name": "stdout",
     "output_type": "stream",
     "text": [
      "[27]\teval-rmse:6.11237\teval-mae:0.50589\teval-mape:0.17937\ttrain-rmse:1.76647\ttrain-mae:0.33148\ttrain-mape:0.19817\n"
     ]
    },
    {
     "name": "stdout",
     "output_type": "stream",
     "text": [
      "[28]\teval-rmse:6.11210\teval-mae:0.50536\teval-mape:0.17902\ttrain-rmse:1.75949\ttrain-mae:0.33001\ttrain-mape:0.19723\n"
     ]
    },
    {
     "name": "stdout",
     "output_type": "stream",
     "text": [
      "[29]\teval-rmse:6.11210\teval-mae:0.50545\teval-mape:0.17916\ttrain-rmse:1.75833\ttrain-mae:0.32953\ttrain-mape:0.19689\n"
     ]
    },
    {
     "name": "stdout",
     "output_type": "stream",
     "text": [
      "[30]\teval-rmse:6.09682\teval-mae:0.50182\teval-mape:0.17815\ttrain-rmse:1.75211\ttrain-mae:0.32841\ttrain-mape:0.19601\n"
     ]
    },
    {
     "name": "stdout",
     "output_type": "stream",
     "text": [
      "[31]\teval-rmse:6.09778\teval-mae:0.50164\teval-mape:0.17741\ttrain-rmse:1.74438\ttrain-mae:0.32795\ttrain-mape:0.19576\n"
     ]
    },
    {
     "name": "stdout",
     "output_type": "stream",
     "text": [
      "[32]\teval-rmse:6.09810\teval-mae:0.50343\teval-mape:0.17934\ttrain-rmse:1.74181\ttrain-mae:0.32702\ttrain-mape:0.19517\n"
     ]
    },
    {
     "name": "stdout",
     "output_type": "stream",
     "text": [
      "[33]\teval-rmse:6.09807\teval-mae:0.50402\teval-mape:0.18008\ttrain-rmse:1.74152\ttrain-mae:0.32687\ttrain-mape:0.19518\n"
     ]
    },
    {
     "name": "stdout",
     "output_type": "stream",
     "text": [
      "[34]\teval-rmse:6.09810\teval-mae:0.50249\teval-mape:0.17844\ttrain-rmse:1.73647\ttrain-mae:0.32665\ttrain-mape:0.19514\n"
     ]
    },
    {
     "name": "stdout",
     "output_type": "stream",
     "text": [
      "[35]\teval-rmse:6.09899\teval-mae:0.50334\teval-mape:0.17912\ttrain-rmse:1.73223\ttrain-mae:0.32606\ttrain-mape:0.19467\n"
     ]
    },
    {
     "name": "stdout",
     "output_type": "stream",
     "text": [
      "[36]\teval-rmse:6.09900\teval-mae:0.50337\teval-mape:0.17916\ttrain-rmse:1.73077\ttrain-mae:0.32599\ttrain-mape:0.19465\n"
     ]
    },
    {
     "name": "stdout",
     "output_type": "stream",
     "text": [
      "[37]\teval-rmse:6.09887\teval-mae:0.50369\teval-mape:0.17961\ttrain-rmse:1.72941\ttrain-mae:0.32584\ttrain-mape:0.19456\n"
     ]
    },
    {
     "name": "stdout",
     "output_type": "stream",
     "text": [
      "[38]\teval-rmse:6.09984\teval-mae:0.50330\teval-mape:0.17913\ttrain-rmse:1.72545\ttrain-mae:0.32535\ttrain-mape:0.19418\n"
     ]
    },
    {
     "name": "stdout",
     "output_type": "stream",
     "text": [
      "[39]\teval-rmse:6.09797\teval-mae:0.50262\teval-mape:0.17913\ttrain-rmse:1.72128\ttrain-mae:0.32487\ttrain-mape:0.19385\n"
     ]
    },
    {
     "name": "stdout",
     "output_type": "stream",
     "text": [
      "[40]\teval-rmse:6.09781\teval-mae:0.50295\teval-mape:0.17954\ttrain-rmse:1.72014\ttrain-mae:0.32442\ttrain-mape:0.19352\n"
     ]
    },
    {
     "name": "stdout",
     "output_type": "stream",
     "text": [
      "[41]\teval-rmse:6.08340\teval-mae:0.50350\teval-mape:0.18115\ttrain-rmse:1.71763\ttrain-mae:0.32368\ttrain-mape:0.19316\n"
     ]
    },
    {
     "name": "stdout",
     "output_type": "stream",
     "text": [
      "[42]\teval-rmse:6.08114\teval-mae:0.50249\teval-mape:0.18061\ttrain-rmse:1.71101\ttrain-mae:0.32327\ttrain-mape:0.19289\n"
     ]
    },
    {
     "name": "stdout",
     "output_type": "stream",
     "text": [
      "[43]\teval-rmse:6.08113\teval-mae:0.50328\teval-mape:0.18157\ttrain-rmse:1.70606\ttrain-mae:0.32305\ttrain-mape:0.19287\n"
     ]
    },
    {
     "name": "stdout",
     "output_type": "stream",
     "text": [
      "[44]\teval-rmse:6.08113\teval-mae:0.50288\teval-mape:0.18114\ttrain-rmse:1.70423\ttrain-mae:0.32269\ttrain-mape:0.19266\n"
     ]
    },
    {
     "name": "stdout",
     "output_type": "stream",
     "text": [
      "[45]\teval-rmse:6.08090\teval-mae:0.50287\teval-mape:0.18138\ttrain-rmse:1.70351\ttrain-mae:0.32245\ttrain-mape:0.19258\n"
     ]
    },
    {
     "name": "stdout",
     "output_type": "stream",
     "text": [
      "[46]\teval-rmse:6.08090\teval-mae:0.50288\teval-mape:0.18138\ttrain-rmse:1.70325\ttrain-mae:0.32240\ttrain-mape:0.19256\n"
     ]
    },
    {
     "name": "stdout",
     "output_type": "stream",
     "text": [
      "[47]\teval-rmse:6.08084\teval-mae:0.50317\teval-mape:0.18172\ttrain-rmse:1.70120\ttrain-mae:0.32201\ttrain-mape:0.19237\n"
     ]
    },
    {
     "name": "stdout",
     "output_type": "stream",
     "text": [
      "[48]\teval-rmse:6.08193\teval-mae:0.50276\teval-mape:0.18115\ttrain-rmse:1.69984\ttrain-mae:0.32197\ttrain-mape:0.19245\n"
     ]
    },
    {
     "name": "stdout",
     "output_type": "stream",
     "text": [
      "[49]\teval-rmse:6.08231\teval-mae:0.50247\teval-mape:0.18036\ttrain-rmse:1.69450\ttrain-mae:0.32137\ttrain-mape:0.19213\n"
     ]
    },
    {
     "name": "stdout",
     "output_type": "stream",
     "text": [
      "[50]\teval-rmse:6.08191\teval-mae:0.50252\teval-mape:0.18061\ttrain-rmse:1.69388\ttrain-mae:0.32121\ttrain-mape:0.19209\n"
     ]
    },
    {
     "name": "stdout",
     "output_type": "stream",
     "text": [
      "[51]\teval-rmse:6.08024\teval-mae:0.50214\teval-mape:0.18076\ttrain-rmse:1.68878\ttrain-mae:0.32102\ttrain-mape:0.19201\n"
     ]
    },
    {
     "name": "stdout",
     "output_type": "stream",
     "text": [
      "[52]\teval-rmse:6.08025\teval-mae:0.50274\teval-mape:0.18155\ttrain-rmse:1.68796\ttrain-mae:0.32091\ttrain-mape:0.19205\n"
     ]
    },
    {
     "name": "stdout",
     "output_type": "stream",
     "text": [
      "[53]\teval-rmse:6.08024\teval-mae:0.50277\teval-mape:0.18159\ttrain-rmse:1.68703\ttrain-mae:0.32054\ttrain-mape:0.19186\n"
     ]
    },
    {
     "name": "stdout",
     "output_type": "stream",
     "text": [
      "Stopping. Best iteration:\n",
      "[3]\teval-rmse:6.14798\teval-mae:0.48194\teval-mape:0.13473\ttrain-rmse:1.93422\ttrain-mae:0.27586\ttrain-mape:0.12250\n",
      "\n"
     ]
    }
   ],
   "source": [
    "# what if we exclude \"weird\" shops?\n",
    "df = pd.read_csv(\"train_clean.csv\", index_col=[0], parse_dates=[0], dayfirst=True)\n",
    "\n",
    "df = df.sort_index()\n",
    "\n",
    "test = pd.read_csv('test.csv')\n",
    "\n",
    "# the shops not listed here all seem to have weird behavior towards the end of their time series\n",
    "# perhaps we should only use the shop id's listed in the following array\n",
    "test_shops = test['shop_id'].unique()\n",
    "df = df[df['shop_id'].isin(test_shops)]\n",
    "\n",
    "train = df[df.index < val_start_date].copy()\n",
    "validation = df[(val_start_date <= df.index) & (df.index < test_start_date)].copy()\n",
    "test = df[test_start_date <= df.index].copy()\n",
    "\n",
    "dtrain, dvalidation, dtest = xgb_data_prepare(train), xgb_data_prepare(validation), xgb_data_prepare(test)\n",
    "\n",
    "# baseline xgboost + 'weird' shops excluded\n",
    "\n",
    "params = {}\n",
    "params['eval_metric'] = ['rmse', 'mae', 'mape']\n",
    "params['nthread'] = 4\n",
    "\n",
    "# track performance on this data\n",
    "evallist = [(dvalidation, 'eval'), (dtrain, 'train')]\n",
    "\n",
    "num_boost_round = 100 # how many trees\n",
    "early_stopping_rounds = 50\n",
    "\n",
    "model = xgb.train(params=params,\n",
    "                  dtrain=dtrain,\n",
    "                  num_boost_round=num_boost_round,\n",
    "                  evals=evallist,\n",
    "                  early_stopping_rounds=early_stopping_rounds)\n"
   ]
  },
  {
   "cell_type": "code",
   "execution_count": 14,
   "metadata": {
    "collapsed": false
   },
   "outputs": [
    {
     "data": {
      "text/plain": [
       "<AxesSubplot:xlabel='date'>"
      ]
     },
     "execution_count": 14,
     "metadata": {},
     "output_type": "execute_result"
    },
    {
     "data": {
      "image/png": "[encoded data removed]",
      "text/plain": [
       "<Figure size 1440x360 with 1 Axes>"
      ]
     },
     "metadata": {
      "needs_background": "light"
     },
     "output_type": "display_data"
    }
   ],
   "source": [
    "val_predictions = model.predict(dvalidation)\n",
    "val_predictions\n",
    "# pd.DataFrame(data=val_predictions, index=validation.index, columns=['item_cnt_pred']).groupby('date').sum().plot(figsize=(20, 5))\n",
    "\n",
    "# this isn't so bad! the real surprise is why adding time features doesn't seem to make a difference...\n",
    "val_compare = pd.DataFrame(data=val_predictions, index=validation.index, columns=['item_cnt_pred'])\n",
    "val_compare['item_cnt_day'] = validation['item_cnt_day']\n",
    "val_compare.groupby('date').sum().plot(figsize=(20, 5))"
   ]
  },
  {
   "cell_type": "code",
   "execution_count": 1,
   "metadata": {
    "collapsed": false
   },
   "outputs": [
    {
     "ename": "NameError",
     "evalue": "name 'pd' is not defined",
     "output_type": "error",
     "traceback": [
      "\u001b[0;31m\u001b[0m",
      "\u001b[0;31mNameError\u001b[0mTraceback (most recent call last)",
      "\u001b[0;32m<ipython-input-1-4952e15c34f7>\u001b[0m in \u001b[0;36m<module>\u001b[0;34m\u001b[0m\n\u001b[1;32m      1\u001b[0m \u001b[0;31m# what if we exclude \"weird\" shops and use additional features?\u001b[0m\u001b[0;34m\u001b[0m\u001b[0;34m\u001b[0m\u001b[0;34m\u001b[0m\u001b[0m\n\u001b[0;32m----> 2\u001b[0;31m \u001b[0mdf\u001b[0m \u001b[0;34m=\u001b[0m \u001b[0mpd\u001b[0m\u001b[0;34m.\u001b[0m\u001b[0mread_csv\u001b[0m\u001b[0;34m(\u001b[0m\u001b[0;34m\"train_clean.csv\"\u001b[0m\u001b[0;34m,\u001b[0m \u001b[0mindex_col\u001b[0m\u001b[0;34m=\u001b[0m\u001b[0;34m[\u001b[0m\u001b[0;36m0\u001b[0m\u001b[0;34m]\u001b[0m\u001b[0;34m,\u001b[0m \u001b[0mparse_dates\u001b[0m\u001b[0;34m=\u001b[0m\u001b[0;34m[\u001b[0m\u001b[0;36m0\u001b[0m\u001b[0;34m]\u001b[0m\u001b[0;34m,\u001b[0m \u001b[0mdayfirst\u001b[0m\u001b[0;34m=\u001b[0m\u001b[0;32mTrue\u001b[0m\u001b[0;34m)\u001b[0m\u001b[0;34m\u001b[0m\u001b[0;34m\u001b[0m\u001b[0m\n\u001b[0m\u001b[1;32m      3\u001b[0m \u001b[0;34m\u001b[0m\u001b[0m\n\u001b[1;32m      4\u001b[0m \u001b[0mdf\u001b[0m \u001b[0;34m=\u001b[0m \u001b[0mdf\u001b[0m\u001b[0;34m.\u001b[0m\u001b[0msort_index\u001b[0m\u001b[0;34m(\u001b[0m\u001b[0;34m)\u001b[0m\u001b[0;34m\u001b[0m\u001b[0;34m\u001b[0m\u001b[0m\n\u001b[1;32m      5\u001b[0m \u001b[0;34m\u001b[0m\u001b[0m\n",
      "\u001b[0;31mNameError\u001b[0m: name 'pd' is not defined"
     ]
    }
   ],
   "source": [
    "\n",
    "# what if we exclude \"weird\" shops and use additional features?\n",
    "df = pd.read_csv(\"train_clean.csv\", index_col=[0], parse_dates=[0], dayfirst=True)\n",
    "\n",
    "df = df.sort_index()\n",
    "\n",
    "test_df = pd.read_csv('test.csv')\n",
    "\n",
    "# the shops not listed here all seem to have weird behavior towards the end of their time series\n",
    "# perhaps we should only use the shop id's listed in the following array\n",
    "test_shops = test['shop_id'].unique()\n",
    "df = df[df['shop_id'].isin(test_shops)]\n",
    "\n",
    "train = df[df.index < val_start_date].copy()\n",
    "validation = df[(val_start_date <= df.index) & (df.index < test_start_date)].copy()\n",
    "test = df[test_start_date <= df.index].copy()\n",
    "\n",
    "# only using 2015's data seems to improve things dramatically\n",
    "dtrain = xgb_data_prepare(train[train.index >= '2015-01-01'], add_features=add_features)\n",
    "\n",
    "dtrain = xgb_data_prepare(train, add_features=add_features)\n",
    "dvalidation = xgb_data_prepare(validation, add_features=add_features)\n",
    "dtest = xgb_data_prepare(test, add_features=add_features)\n",
    "\n",
    "# baseline xgboost + 'weird' shops excluded\n",
    "\n",
    "params = {}\n",
    "params['eval_metric'] = ['mae', 'mape', 'rmse'] # last metric is used for early stopping\n",
    "params['nthread'] = 4\n",
    "params['eta'] = 1 # learning rate, default = 0.3\n",
    "params['max_depth'] = 6 # default = 6\n",
    "\n",
    "# gpu (needs CUDA compute >= 3.5)\n",
    "# params['gpu_id'] = 0\n",
    "# params['tree_method'] = 'gpu_hist'\n",
    "\n",
    "# track performance on this data\n",
    "evallist = [(dvalidation, 'eval'), (dtrain, 'train')]\n",
    "\n",
    "num_boost_round = 200 # how many trees, default = 10\n",
    "early_stopping_rounds = 10\n",
    "\n",
    "model = xgb.train(params=params,\n",
    "                  dtrain=dtrain,\n",
    "                  num_boost_round=num_boost_round,\n",
    "                  evals=evallist,\n",
    "                  early_stopping_rounds=early_stopping_rounds)"
   ]
  },
  {
   "cell_type": "code",
   "execution_count": 45,
   "metadata": {
    "collapsed": false
   },
   "outputs": [
    {
     "data": {
      "text/html": [
       "<div>\n",
       "<style scoped>\n",
       "    .dataframe tbody tr th:only-of-type {\n",
       "        vertical-align: middle;\n",
       "    }\n",
       "\n",
       "    .dataframe tbody tr th {\n",
       "        vertical-align: top;\n",
       "    }\n",
       "\n",
       "    .dataframe thead th {\n",
       "        text-align: right;\n",
       "    }\n",
       "</style>\n",
       "<table border=\"1\" class=\"dataframe\">\n",
       "  <thead>\n",
       "    <tr style=\"text-align: right;\">\n",
       "      <th></th>\n",
       "      <th>ID</th>\n",
       "      <th>shop_id</th>\n",
       "      <th>item_id</th>\n",
       "    </tr>\n",
       "  </thead>\n",
       "  <tbody>\n",
       "    <tr>\n",
       "      <th>0</th>\n",
       "      <td>0</td>\n",
       "      <td>5</td>\n",
       "      <td>5037</td>\n",
       "    </tr>\n",
       "    <tr>\n",
       "      <th>1</th>\n",
       "      <td>1</td>\n",
       "      <td>5</td>\n",
       "      <td>5320</td>\n",
       "    </tr>\n",
       "    <tr>\n",
       "      <th>2</th>\n",
       "      <td>2</td>\n",
       "      <td>5</td>\n",
       "      <td>5233</td>\n",
       "    </tr>\n",
       "    <tr>\n",
       "      <th>3</th>\n",
       "      <td>3</td>\n",
       "      <td>5</td>\n",
       "      <td>5232</td>\n",
       "    </tr>\n",
       "    <tr>\n",
       "      <th>4</th>\n",
       "      <td>4</td>\n",
       "      <td>5</td>\n",
       "      <td>5268</td>\n",
       "    </tr>\n",
       "    <tr>\n",
       "      <th>...</th>\n",
       "      <td>...</td>\n",
       "      <td>...</td>\n",
       "      <td>...</td>\n",
       "    </tr>\n",
       "    <tr>\n",
       "      <th>214195</th>\n",
       "      <td>214195</td>\n",
       "      <td>45</td>\n",
       "      <td>18454</td>\n",
       "    </tr>\n",
       "    <tr>\n",
       "      <th>214196</th>\n",
       "      <td>214196</td>\n",
       "      <td>45</td>\n",
       "      <td>16188</td>\n",
       "    </tr>\n",
       "    <tr>\n",
       "      <th>214197</th>\n",
       "      <td>214197</td>\n",
       "      <td>45</td>\n",
       "      <td>15757</td>\n",
       "    </tr>\n",
       "    <tr>\n",
       "      <th>214198</th>\n",
       "      <td>214198</td>\n",
       "      <td>45</td>\n",
       "      <td>19648</td>\n",
       "    </tr>\n",
       "    <tr>\n",
       "      <th>214199</th>\n",
       "      <td>214199</td>\n",
       "      <td>45</td>\n",
       "      <td>969</td>\n",
       "    </tr>\n",
       "  </tbody>\n",
       "</table>\n",
       "<p>214200 rows × 3 columns</p>\n",
       "</div>"
      ],
      "text/plain": [
       "            ID  shop_id  item_id\n",
       "0            0        5     5037\n",
       "1            1        5     5320\n",
       "2            2        5     5233\n",
       "3            3        5     5232\n",
       "4            4        5     5268\n",
       "...        ...      ...      ...\n",
       "214195  214195       45    18454\n",
       "214196  214196       45    16188\n",
       "214197  214197       45    15757\n",
       "214198  214198       45    19648\n",
       "214199  214199       45      969\n",
       "\n",
       "[214200 rows x 3 columns]"
      ]
     },
     "execution_count": 45,
     "metadata": {},
     "output_type": "execute_result"
    }
   ],
   "source": [
    "test_df"
   ]
  },
  {
   "cell_type": "code",
   "execution_count": 49,
   "metadata": {
    "collapsed": false
   },
   "outputs": [
    {
     "data": {
      "text/plain": [
       "<AxesSubplot:xlabel='date'>"
      ]
     },
     "execution_count": 49,
     "metadata": {},
     "output_type": "execute_result"
    },
    {
     "data": {
      "image/png": "[encoded data removed]",
      "text/plain": [
       "<Figure size 1440x360 with 1 Axes>"
      ]
     },
     "metadata": {
      "needs_background": "light"
     },
     "output_type": "display_data"
    }
   ],
   "source": [
    "# predict using the best iteration's values\n",
    "val_predictions = model.predict(dvalidation, ntree_limit=model.best_ntree_limit)\n",
    "\n",
    "# pd.DataFrame(data=val_predictions, index=validation.index, columns=['item_cnt_pred']).groupby('date').sum().plot(figsize=(20, 5))\n",
    "\n",
    "# this isn't so bad! the real surprise is why adding time features doesn't seem to make a difference...\n",
    "val_compare = pd.DataFrame(data=val_predictions, index=validation.index, columns=['item_cnt_pred'])\n",
    "val_compare['item_cnt_day'] = validation['item_cnt_day']\n",
    "val_compare.groupby('date').sum().plot(figsize=(20, 5))"
   ]
  }
 ],
 "metadata": {
  "kernelspec": {
   "argv": [
    "/usr/bin/python3",
    "-m",
    "ipykernel_launcher",
    "-f",
    "{connection_file}"
   ],
   "display_name": "Python 3",
   "env": null,
   "interrupt_mode": "signal",
   "language": "python",
   "metadata": null,
   "name": "python3"
  },
  "name": "xgboost.ipynb"
 },
 "nbformat": 4,
 "nbformat_minor": 4
}
